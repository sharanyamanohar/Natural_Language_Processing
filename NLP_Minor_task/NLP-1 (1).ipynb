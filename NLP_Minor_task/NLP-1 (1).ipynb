{
 "cells": [
  {
   "cell_type": "code",
   "execution_count": 1,
   "id": "be8c72c1",
   "metadata": {},
   "outputs": [],
   "source": [
    "import pandas as pd"
   ]
  },
  {
   "cell_type": "markdown",
   "id": "d1696e37",
   "metadata": {},
   "source": [
    "### Listing out capital letters from text column"
   ]
  },
  {
   "cell_type": "code",
   "execution_count": 3,
   "id": "82de60fe",
   "metadata": {},
   "outputs": [
    {
     "data": {
      "text/html": [
       "<div>\n",
       "<style scoped>\n",
       "    .dataframe tbody tr th:only-of-type {\n",
       "        vertical-align: middle;\n",
       "    }\n",
       "\n",
       "    .dataframe tbody tr th {\n",
       "        vertical-align: top;\n",
       "    }\n",
       "\n",
       "    .dataframe thead th {\n",
       "        text-align: right;\n",
       "    }\n",
       "</style>\n",
       "<table border=\"1\" class=\"dataframe\">\n",
       "  <thead>\n",
       "    <tr style=\"text-align: right;\">\n",
       "      <th></th>\n",
       "      <th>File Name</th>\n",
       "      <th>Text</th>\n",
       "    </tr>\n",
       "  </thead>\n",
       "  <tbody>\n",
       "    <tr>\n",
       "      <th>0</th>\n",
       "      <td>MM1</td>\n",
       "      <td>Positive dorsalis pedis pulses.,ASSESSMENT: , ...</td>\n",
       "    </tr>\n",
       "    <tr>\n",
       "      <th>1</th>\n",
       "      <td>MM3</td>\n",
       "      <td>The patient appears to be an excellent candida...</td>\n",
       "    </tr>\n",
       "    <tr>\n",
       "      <th>2</th>\n",
       "      <td>MM4</td>\n",
       "      <td>Will proceed with our usual work up with an up...</td>\n",
       "    </tr>\n",
       "    <tr>\n",
       "      <th>3</th>\n",
       "      <td>MM8</td>\n",
       "      <td>\", Dentistry, Bony Impacted Teeth Removal ,\"PR...</td>\n",
       "    </tr>\n",
       "    <tr>\n",
       "      <th>4</th>\n",
       "      <td>MM26</td>\n",
       "      <td>An NG tube was then inserted and small amount ...</td>\n",
       "    </tr>\n",
       "  </tbody>\n",
       "</table>\n",
       "</div>"
      ],
      "text/plain": [
       "  File Name                                               Text\n",
       "0       MM1  Positive dorsalis pedis pulses.,ASSESSMENT: , ...\n",
       "1       MM3  The patient appears to be an excellent candida...\n",
       "2       MM4  Will proceed with our usual work up with an up...\n",
       "3       MM8  \", Dentistry, Bony Impacted Teeth Removal ,\"PR...\n",
       "4      MM26  An NG tube was then inserted and small amount ..."
      ]
     },
     "execution_count": 3,
     "metadata": {},
     "output_type": "execute_result"
    }
   ],
   "source": [
    "df=pd.read_excel(r\"Capital_Voice Data_Disc_1_WITH ROW NUMBERS.xlsx\")\n",
    "df.head()"
   ]
  },
  {
   "cell_type": "code",
   "execution_count": 4,
   "id": "843bb103",
   "metadata": {},
   "outputs": [
    {
     "data": {
      "text/plain": [
       "0      Positive dorsalis pedis pulses.,ASSESSMENT: , ...\n",
       "1      The patient appears to be an excellent candida...\n",
       "2      Will proceed with our usual work up with an up...\n",
       "3      \", Dentistry, Bony Impacted Teeth Removal ,\"PR...\n",
       "4      An NG tube was then inserted and small amount ...\n",
       "                             ...                        \n",
       "369    Left had open appearing ring but the scrotum w...\n",
       "370    The plan is for evaluation and repair.,DESCRIP...\n",
       "371    Delivered the testis into the field, which had...\n",
       "372    At the end of the procedure, the patient recei...\n",
       "373    \",\"urology, diagnostic laparoscopy, caudal blo...\n",
       "Name: Text, Length: 374, dtype: object"
      ]
     },
     "execution_count": 4,
     "metadata": {},
     "output_type": "execute_result"
    }
   ],
   "source": [
    "df['Text']"
   ]
  },
  {
   "cell_type": "code",
   "execution_count": 5,
   "id": "87ffa4de",
   "metadata": {},
   "outputs": [
    {
     "name": "stdout",
     "output_type": "stream",
     "text": [
      "['ASSESSMENT', 'PLAN', 'GI', 'PREOPERATIVE', 'DIAGNOSIS', 'POSTOPERATIVE', 'DIAGNOSIS', 'PROCEDURE', 'ANESTHESIA', 'COMPLICATIONS', 'CONDITION', 'PACU', 'DESCRIPTION', 'OF', 'PROCEDURE', 'NG', 'PACU', 'HISTORY', 'OF', 'PRESENT', 'ILLNESS', 'I', 'ABC', 'IMPRESSION', 'PLAN', 'I', 'I', 'PREOPERATIVE', 'DIAGNOSES', 'POSTOPERATIVE', 'DIAGNOSES', 'OPERATION', 'PERFORMED', 'INDICATIONS', 'FOR', 'SURGERY', 'ABC', 'DD', 'YYYY', 'W', 'DESCRIPTION', 'OF', 'PROCEDURE', 'T', 'T', 'REASON', 'FOR', 'VISIT', 'HISTORY', 'OF', 'PRESENT', 'ILLNESS', 'A', 'PHYSICAL', 'EXAMINATION', 'BMI', 'PROCEDURE', 'I', 'AP', 'PROCEDURE', 'PREOPERATIVE', 'DIAGNOSIS', 'POSTOPERATIVE', 'DIAGNOSIS', 'MEDICATIONS', 'COMPLICATIONS', 'BLOOD', 'LOSS', 'INDICATIONS', 'PROCEDURE', 'NOTE', 'ER', 'HISTORY', 'OF', 'PRESENT', 'ILLNESS', 'PAST', 'MEDICAL', 'HISTORY', 'ALLERGIES', 'CURRENT', 'MEDICATIONS', 'FAMILY', 'HISTORY', 'SOCIAL', 'HISTORY', 'PHYSICAL', 'EXAMINATION', 'LABORATORY', 'DATA', 'HOSPITAL', 'COURSE', 'X', 'ENT', 'IV', 'X', 'I', 'Y', 'INDICATION', 'TECHNIQUE', 'MDP', 'FINDINGS', 'CONCLUSION', 'CT', 'Y', 'FINAL', 'DIAGNOSES', 'CPAP', 'OPERATION', 'AND', 'PROCEDURE', 'Y', 'BRIEF', 'HOSPITAL', 'COURSE', 'SUMMARY', 'OR', 'PACU', 'DVT', 'PCA', 'CPAP', 'DISCHARGE', 'INSTRUCTIONS', 'DESCRIPTION', 'A', 'PREOPERATIVE', 'DIAGNOSIS', 'POSTOPERATIVE', 'DIAGNOSIS', 'OPERATIVE', 'PROCEDURE', 'ANESTHESIA', 'INDICATIONS', 'FOR', 'PROCEDURE', 'A', 'DESCRIPTION', 'OF', 'PROCEDURE', 'OR', 'CHIEF', 'COMPLAINT', 'DIAGNOSIS', 'NAME', 'OF', 'OPERATION', 'ANESTHESIA', 'HISTORY', 'PROCEDURE', 'PROCEDURES', 'COMPLICATIONS', 'ADMITTING', 'DIAGNOSIS', 'HISTORY', 'LABORATORY', 'DATA', 'BUN', 'A', 'PTT', 'COURSE', 'IN', 'THE', 'HOSPITAL', 'TUR', 'DS', 'DISCHARGE', 'DIAGNOSIS', 'ABC', 'PREOPERATIVE', 'DIAGNOSIS', 'POSTOPERATIVE', 'DIAGNOSIS', 'PROCEDURE', 'PERFORMED', 'ANESTHESIA', 'COMPLICATIONS', 'ESTIMATED', 'BLOOD', 'LOSS', 'PROCEDURE', 'IN', 'DETAIL', 'RE', 'DD', 'YYYY', 'I', 'DD', 'YYYY', 'M', 'D', 'PREOPERATIVE', 'DIAGNOSIS', 'POSTOPERATIVE', 'DIAGNOSIS', 'OPERATIVE', 'PROCEDURES', 'DESCRIPTION', 'OF', 'PROCEDURE', 'HISTORY', 'OF', 'PRESENT', 'ILLNESS', 'IMPRESSION', 'GI', 'PLAN', 'X', 'CT', 'CHIEF', 'COMPLAINT', 'HISTORY', 'OF', 'PRESENT', 'ILLNESS', 'BPH', 'REVIEW', 'OF', 'SYSTEMS', 'PAST', 'MEDICAL', 'HISTORY', 'FAMILY', 'HISTORY', 'HOME', 'MEDICATIONS', 'ALLERGIES', 'PHYSICAL', 'EXAMINATION', 'GENERAL', 'VITAL', 'SIGNS', 'LUNGS', 'CARDIOVASCULAR', 'ABDOMEN', 'DRE', 'ASSESSMENT', 'AND', 'PLAN', 'MCG', 'PSA', 'PSA', 'PSA', 'CT', 'KUB', 'CHIEF', 'COMPLAINT', 'HISTORY', 'OF', 'PRESENT', 'ILLNESS', 'CT', 'ABC', 'PAST', 'MEDICAL', 'HISTORY', 'PAST', 'SURGICAL', 'HISTORY', 'ALLERGIES', 'NONE', 'REVIEW', 'OF', 'SYSTEMS', 'CARDIOPULMONARY', 'GI', 'MUSCULOSKELETAL', 'FAMILY', 'HISTORY', 'PHYSICAL', 'EXAMINATION', 'GENERAL', 'APPEARANCE', 'HEENT', 'NECK', 'LUNGS', 'HEART', 'ABDOMEN', 'RECTAL', 'EXTREMITIES', 'IMPRESSION', 'PLAN', 'PROCEDURE', 'PERFORMED', 'PROCEDURE', 'A', 'HISTORY', 'OF', 'PRESENT', 'ILLNESS', 'IMPRESSION', 'X', 'X', 'X', 'PLAN', 'X', 'EXAM', 'REASON', 'FOR', 'EXAM', 'FINDINGS', 'IMPRESSION', 'TURBT', 'PREOPERATIVE', 'DIAGNOSIS', 'POSTOPERATIVE', 'DIAGNOSIS', 'PROCEDURE', 'PERFORMED', 'TURBT', 'ANESTHESIA', 'SPECIMEN', 'TO', 'PATHOLOGY', 'DRAINS', 'A', 'ESTIMATED', 'BLOOD', 'LOSS', 'INDICATIONS', 'FOR', 'PROCEDURE', 'IVP', 'DESCRIPTION', 'OF', 'OPERATION', 'TURP', 'PREOPERATIVE', 'DIAGNOSIS', 'POSTOPERATIVE', 'DIAGNOSIS', 'OPERATION', 'PERFORMED', 'ANESTHESIA', 'COMPLICATIONS', 'INDICATIONS', 'FOR', 'THE', 'SURGERY', 'PROCEDURE', 'IN', 'DETAIL', 'LMA', 'TURBT', 'TURBT', 'PREOPERATIVE', 'DIAGNOSIS', 'POSTOPERATIVE', 'DIAGNOSIS', 'OPERATION', 'TURBT', 'ANESTHESIA', 'ESTIMATED', 'BLOOD', 'LOSS', 'FLUIDS', 'BRIEF', 'HISTORY', 'MI', 'DVT', 'PE', 'DETAILS', 'OF', 'THE', 'OR', 'OR', 'CHIEF', 'COMPLAINT', 'HISTORY', 'OF', 'PRESENT', 'ILLNESS', 'PAST', 'MEDICAL', 'HISTORY', 'PAST', 'SURGICAL', 'HISTORY', 'REVIEW', 'OF', 'SYSTEMS', 'IMMUNIZATIONS', 'FAMILY', 'HISTORY', 'MEDICATIONS', 'PHYSICAL', 'EXAMINATION', 'VITAL', 'SIGNS', 'GENERAL', 'HEENT', 'NECK', 'CHEST', 'LUNGS', 'CARDIAC', 'ABDOMEN', 'EXTREMITIES', 'SKIN', 'NEUROLOGIC', 'LABORATORY', 'DATA', 'ASSESSMENT', 'PLAN', 'TURBT', 'PREOPERATIVE', 'DIAGNOSIS', 'POSTOPERATIVE', 'DIAGNOSIS', 'TITLE', 'OF', 'OPERATION', 'ANESTHESIA', 'INDICATIONS', 'TURBT', 'FINDINGS', 'PROCEDURE', 'IN', 'DETAIL', 'ACMI', 'I', 'PREOPERATIVE', 'DIAGNOSES', 'ANESTHESIA', 'ESTIMATED', 'BLOOD', 'LOSS', 'SPECIMEN', 'DISPOSITION', 'PACU', 'INDICATIONS', 'AND', 'FINDINGS', 'FINDINGS', 'DESCRIPTION', 'OF', 'PROCEDURE', 'ES', 'X', 'TESTICULAR', 'ULTRASOUND', 'REASON', 'FOR', 'EXAM', 'FINDINGS', 'PREOPERATIVE', 'DIAGNOSES', 'POSTOPERATIVE', 'DIAGNOSES', 'TITLE', 'OF', 'OPERATION', 'ANESTHESIA', 'INDICATIONS', 'PSA', 'I', 'PROCEDURE', 'IN', 'DETAIL', 'GIA', 'GIA', 'GIA', 'TA', 'GIA', 'SGIA', 'TA', 'PREOPERATIVE', 'DIAGNOSIS', 'POSTOPERATIVE', 'DIAGNOSIS', 'OPERATIONS', 'PERFORMED', 'ANESTHESIA', 'MAC', 'ESTIMATED', 'BLOOD', 'LOSS', 'FLUIDS', 'BRIEF', 'HISTORY', 'OF', 'THE', 'PATIENT', 'MI', 'DVT', 'PE', 'DETAILS', 'OF', 'THE', 'PROCEDURE', 'OR', 'SPARC', 'SPARC', 'PREOPERATIVE', 'DX', 'POSTOPERATIVE', 'DX', 'OPERATIVE', 'PROCEDURE', 'SPARC', 'ANESTHESIA', 'FINDINGS', 'INDICATIONS', 'DESCRIPTION', 'OF', 'OPERATIVE', 'PROCEDURE', 'SPARC', 'SPARC', 'PREOPERATIVE', 'DIAGNOSIS', 'POSTOPERATIVE', 'DIAGNOSIS', 'PROCEDURE', 'ANESTHETIC', 'A', 'FINDINGS', 'ESTIMATED', 'BLOOD', 'LOSS', 'FLUIDS', 'RECEIVED', 'TUBES', 'AND', 'DRAINS', 'SPECIMENS', 'COUNTS', 'INDICATIONS', 'OF', 'OPERATION', 'I', 'DESCRIPTION', 'OF', 'OPERATION', 'IV', 'PREOPERATIVE', 'DIAGNOSES', 'POSTOPERATIVE', 'DIAGNOSES', 'PROCEDURE', 'ANESTHESIA', 'FLUIDS', 'RECEIVED', 'ESTIMATED', 'BLOOD', 'LOSS', 'SPECIMENS', 'ABNORMAL', 'FINDINGS', 'A', 'TUBES', 'AND', 'DRAINS', 'A', 'J', 'INDICATIONS', 'FOR', 'OPERATION', 'DESCRIPTION', 'OF', 'OPERATION', 'X', 'Y', 'Y', 'IV', 'Y', 'Y', 'J', 'X', 'Y', 'Y', 'X', 'Y', 'X', 'X', 'Y', 'X', 'Y', 'Y', 'X', 'Y', 'X', 'Y', 'X', 'Y', 'Y', 'Y', 'X', 'Y', 'X', 'Y', 'Y', 'X', 'Y', 'Y', 'PREOPERATIVE', 'DIAGNOSIS', 'POSTOPERATIVE', 'DIAGNOSIS', 'PROCEDURE', 'ANESTHESIA', 'DESCRIPTION', 'OF', 'THE', 'CASE', 'I', 'I', 'I', 'A', 'DIAGNOSIS', 'HISTORY', 'OF', 'PRESENT', 'ILLNESS', 'A', 'REVIEW', 'OF', 'SYSTEMS', 'ENT', 'CARDIOVASCULAR', 'RESPIRATORY', 'GI', 'GU', 'NEUROLOGIC', 'MUSCULOSKELETAL', 'SKIN', 'WBC', 'H', 'H', 'PAST', 'MEDICAL', 'HISTORY', 'PAST', 'SURGICAL', 'HISTORY', 'IMMUNIZATIONS', 'ACTIVITY', 'NKDA', 'BIRTH', 'HISTORY', 'NSVD', 'DEVELOPMENTAL', 'FAMILY', 'HISTORY', 'MEDICATIONS', 'SOCIAL', 'HISTORY', 'SICK', 'CONTACTS', 'DIET', 'PHYSICAL', 'EXAMINATION', 'VITAL', 'SIGNS', 'ER', 'GENERAL', 'HEENT', 'NECK', 'CHEST', 'ABDOMEN', 'EXTREMITIES', 'PREOPERATIVE', 'DIAGNOSIS', 'POSTOPERATIVE', 'DIAGNOSIS', 'OPERATIVE', 'PROCEDURE', 'ANESTHESIA', 'ESTIMATED', 'BLOOD', 'LOSS', 'COMPLICATIONS', 'INDICATIONS', 'FOR', 'SURGERY', 'PROCEDURE', 'IN', 'DETAIL', 'LMA', 'CT', 'PDS', 'PREOPERATIVE', 'DIAGNOSIS', 'POSTOPERATIVE', 'DIAGNOSIS', 'OPERATION', 'PERFORMED', 'ESTIMATED', 'BLOOD', 'LOSS', 'REPLACEMENT', 'COMPLICATIONS', 'INDICATIONS', 'OF', 'SURGERY', 'PROCEDURE', 'IN', 'DETAIL', 'A', 'PSA', 'PDS', 'A', 'SUBJECTIVE', 'XYZ', 'PAST', 'MEDICAL', 'HISTORY', 'SURGERIES', 'HOSPITALIZATIONS', 'MESH', 'MEDICATIONS', 'DS', 'ALLERGIES', 'FAMILY', 'HISTORY', 'CA', 'PERSONAL', 'HISTORY', 'REVIEW', 'OF', 'SYSTEMS', 'DT', 'PHYSICAL', 'EXAMINATION', 'HEENT', 'TSH', 'H', 'P', 'HISTORY', 'OF', 'PRESENT', 'ILLNESS', 'PSA', 'XXX', 'PAST', 'MEDICAL', 'HISTORY', 'MEDICATIONS', 'ALLERGIES', 'SOCIAL', 'HISTORY', 'REVIEW', 'OF', 'SYSTEMS', 'AUA', 'PHYSICAL', 'EXAMINATION', 'HEENT', 'IMPRESSION', 'PLAN', 'I', 'I', 'PROSTATE', 'BRACHYTHERAPY', 'PROSTATE', 'I', 'IMPLANTATION', 'I', 'PROCEDURES', 'DIAGNOSIS', 'DRAINS', 'ESTIMATED', 'BLOOD', 'LOSS', 'COMPLICATIONS', 'SPECIMENS', 'INDICATIONS', 'PROCEDURE', 'IN', 'DETAIL', 'DISPOSITION', 'PREOPERATIVE', 'DIAGNOSIS', 'POSTOPERATIVE', 'DIAGNOSIS', 'PROCEDURE', 'PERFORMED', 'J', 'FIRST', 'SECOND', 'ANESTHESIA', 'SPECIMEN', 'DRAINS', 'J', 'PROCEDURE', 'UPJ', 'X', 'ESWL', 'KUB', 'PREOPERATIVE', 'DIAGNOSIS', 'POSTOPERATIVE', 'DIAGNOSIS', 'PROCEDURE', 'DONE', 'INDICATIONS', 'PSA', 'TRUS', 'DESCRIPTION', 'OF', 'PROCEDURE', 'PDS', 'PACU', 'PSA', 'HISTORY', 'OF', 'PRESENT', 'ILLNESS', 'PSA', 'PAIN', 'ASSESSMENT', 'PERFORMANCE', 'STATUS', 'NUTRITIONAL', 'STATUS', 'PSYCHIATRIC', 'IRS', 'REVIEW', 'OF', 'SYSTEMS', 'MEDICATIONS', 'PHYSICAL', 'EXAMINATION', 'GENERAL', 'HEENT', 'LYMPH', 'NODES', 'SKELETAL', 'LUNGS', 'CARDIOVASCULAR', 'ABDOMEN', 'DIGITAL', 'RECTAL', 'EXAMINATION', 'EXTREMITIES', 'NEUROLOGIC', 'IMPRESSION', 'PSA', 'PLAN', 'I', 'PSA', 'PHYSICAL', 'EXAMINATION', 'PSA', 'PROCEDURES', 'PATHOLOGY', 'DISCHARGE', 'NOTE', 'PSA', 'PHYSICAL', 'EXAMINATION', 'PSA', 'IMAGING', 'CT', 'LABORATORY', 'PSA', 'PROCEDURES', 'PATHOLOGY', 'TREATMENT', 'I', 'CHIEF', 'COMPLAINT', 'HISTORY', 'OF', 'PRESENT', 'ILLNESS', 'PAST', 'MEDICAL', 'HISTORY', 'PAST', 'SURGICAL', 'HISTORY', 'SOCIAL', 'HABITS', 'MEDICATIONS', 'ALLERGIES', 'PHYSICAL', 'EXAMINATION', 'GENERAL', 'VITAL', 'SIGNS', 'HEART', 'LUNGS', 'ABDOMEN', 'GENITOURINARY', 'EXTREMITIES', 'SKIN', 'DIAGNOSTIC', 'STUDIES', 'ASSESSMENT', 'AND', 'PLAN', 'ER', 'PREOPERATIVE', 'DIAGNOSES', 'PROCEDURE', 'PERFORMED', 'ANESTHESIA', 'LMA', 'SPECIMEN', 'PROCEDURE', 'OPERATIVE', 'PROCEDURE', 'PDS', 'IV', 'PREOPERATIVE', 'DIAGNOSIS', 'POSTOPERATIVE', 'DIAGNOSIS', 'PROCEDURE', 'ABNORMAL', 'FINDINGS', 'ANESTHESIA', 'FLUIDS', 'RECEIVED', 'ESTIMATED', 'BLOOD', 'LOSS', 'SPECIMENS', 'TUBES', 'AND', 'DRAINS', 'COUNT', 'INDICATIONS', 'FOR', 'OPERATION', 'DESCRIPTION', 'OF', 'PROCEDURE', 'IV', 'IV', 'ADMISSION', 'DIAGNOSIS', 'HISTORY', 'X', 'PSA', 'SURGICAL', 'HISTORY', 'MEDICAL', 'HISTORY', 'MEDICATIONS', 'SOCIAL', 'HISTORY', 'ALLERGIES', 'NONE', 'REVIEW', 'OF', 'SYSTEMS', 'PHYSICAL', 'EXAMINATION', 'GENERAL', 'HEENT', 'NECK', 'PULMONARY', 'HEART', 'ABDOMEN', 'GENITALIA', 'RECTAL', 'MUSCULOSKELETAL', 'NEUROLOGIC', 'IMPRESSION', 'PLAN', 'I', 'Y', 'MI', 'HISTORY', 'LABORATORY', 'PROCEDURES', 'PATHOLOGY', 'PHYSICAL', 'EXAMINATION', 'R', 'L', 'CA', 'IMAGING', 'CT', 'LABORATORY', 'PSA', 'PROCEDURES', 'PATHOLOGY', 'TREATMENT', 'CHIEF', 'COMPLAINT', 'HISTORY', 'OF', 'PRESENT', 'ILLNESS', 'AKA', 'ED', 'ED', 'REVIEW', 'OF', 'SYSTEMS', 'HPI', 'PAST', 'MEDICAL', 'HISTORY', 'PAST', 'SURGICAL', 'HISTORY', 'AKA', 'MEDICATIONS', 'ALLERGIES', 'PENICILLIN', 'ADHESIVE', 'TAPE', 'FAMILY', 'HISTORY', 'SOCIAL', 'HISTORY', 'PHYSICAL', 'EXAMINATION', 'GENERAL', 'A', 'NECK', 'LUNGS', 'CARDIOVASCULAR', 'ABDOMEN', 'GENITOURINARY', 'EXTREMITIES', 'AKA', 'NEUROLOGIC', 'LABORATORY', 'DATA', 'I', 'UA', 'ED', 'CBC', 'INR', 'IMPRESSION', 'A', 'REASON', 'FOR', 'ADMISSION', 'HISTORY', 'OF', 'PRESENT', 'ILLNESS', 'PAST', 'MEDICAL', 'HISTORY', 'PAST', 'SURGICAL', 'HISTORY', 'MEDICATION', 'ALLERGIES', 'SOCIAL', 'HISTORY', 'FAMILY', 'HISTORY', 'REVIEW', 'OF', 'SYSTEMS', 'PHYSICAL', 'EXAMINATION', 'GENERAL', 'VITAL', 'SIGNS', 'ENT', 'NECK', 'JVD', 'LUNGS', 'HEART', 'ABDOMEN', 'EXTREMITIES', 'GENITAL', 'LABORATORY', 'DATA', 'IMPRESSION', 'X', 'PLAN', 'X', 'X', 'H', 'H', 'IV', 'VAC', 'I', 'CHIEF', 'COMPLAINT', 'HISTORY', 'OF', 'PRESENT', 'ILLNESS', 'PAST', 'MEDICAL', 'HISTORY', 'REVIEW', 'OF', 'SYSTEMS', 'A', 'SOCIAL', 'HISTORY', 'MEDICATIONS', 'PHYSICAL', 'EXAMINATION', 'VITAL', 'SIGNS', 'GENERAL', 'HEAD', 'AND', 'NECK', 'NARES', 'LUNGS', 'CARDIAC', 'ABDOMEN', 'GU', 'EXTREMITIES', 'SKIN', 'NEUROLOGIC', 'BACK', 'IMPRESSION', 'PLAN', 'XYZ', 'M', 'D', 'ABC', 'STATE', 'RE', 'XXXX', 'XXXX', 'MR', 'XYZ', 'XXXX', 'I', 'I', 'XXXX', 'SPECIMENS', 'POST', 'OPERATIVE', 'DIAGNOSIS', 'DIAGNOSTIC', 'OPINION', 'CLINICAL', 'HISTORY', 'GROSS', 'DESCRIPTION', 'MICROSCOPIC', 'DESCRIPTION', 'XXX', 'SUMMARY', 'A', 'B', 'C', 'MX', 'D', 'PREOPERATIVE', 'DIAGNOSIS', 'POSTOPERATIVE', 'DIAGNOSIS', 'OPERATIONS', 'ANESTHESIA', 'LMA', 'ESTIMATED', 'BLOOD', 'LOSS', 'SPECIMEN', 'BRIEF', 'HISTORY', 'HCG', 'PROCEDURE', 'IN', 'DETAIL', 'OR', 'PDS', 'Y', 'PDS', 'REASON', 'FOR', 'VISIT', 'HISTORY', 'OF', 'PRESENT', 'ILLNESS', 'IMPRESSION', 'I', 'PLAN', 'XR', 'PREOPERATIVE', 'DIAGNOSIS', 'POSTOPERATIVE', 'DIAGNOSIS', 'PROCEDURE', 'ANESTHESIA', 'FLUIDS', 'RECEIVED', 'SPECIMENS', 'COUNTS', 'TUBES', 'DRAINS', 'FINDINGS', 'INDICATIONS', 'FOR', 'OPERATION', 'DESCRIPTION', 'OF', 'OPERATION', 'PREOPERATIVE', 'DIAGNOSIS', 'POSTOPERATIVE', 'DIAGNOSIS', 'PROCEDURES', 'ABNORMAL', 'FINDINGS', 'A', 'III', 'ESTIMATED', 'BLOOD', 'LOSS', 'FLUIDS', 'RECEIVED', 'TUBES', 'DRAINS', 'COUNTS', 'SPECIMENS', 'ANESTHESIA', 'INDICATIONS', 'FOR', 'OPERATION', 'DESCRIPTION', 'OF', 'OPERATION', 'III', 'IV', 'PREOPERATIVE', 'DIAGNOSIS', 'POSTOPERATIVE', 'DIAGNOSES', 'PROCEDURES', 'ANESTHESIA', 'FLUIDS', 'RECEIVED', 'ESTIMATED', 'BLOOD', 'LOSS', 'SPECIMENS', 'TUBES', 'AND', 'DRAINS', 'INDICATIONS', 'FOR', 'OPERATION', 'DESCRIPTION', 'OF', 'OPERATION', 'III', 'PREOPERATIVE', 'DIAGNOSIS', 'POSTOPERATIVE', 'DIAGNOSIS', 'OPERATION', 'PERFORMED', 'ANESTHESIA', 'HISTORY', 'OPERATIVE', 'FINDINGS', 'OPERATIVE', 'PROCEDURE', 'X', 'A', 'PREOPERATIVE', 'DIAGNOSIS', 'POSTOPERATIVE', 'DIAGNOSIS', 'PROCEDURES', 'ANESTHESIA', 'FLUID', 'RECEIVED', 'ESTIMATED', 'BLOOD', 'LOSS', 'SPECIMEN', 'ABNORMAL', 'FINDINGS', 'INDICATIONS', 'FOR', 'OPERATION', 'DESCRIPTION', 'OF', 'OPERATION', 'III', 'IV', 'OPERATIVE', 'NOTE']\n"
     ]
    }
   ],
   "source": [
    "import re\n",
    "\n",
    "capital_words = []#Listing out all the capital words\n",
    "\n",
    "for text in df['Text']:\n",
    "    # Find all capital words in the text using regular expressions\n",
    "    words = re.findall(r'\\b[A-Z]+\\b', text)\n",
    "    capital_words.extend(words)#Same as append\n",
    "\n",
    "print(capital_words)"
   ]
  },
  {
   "cell_type": "code",
   "execution_count": null,
   "id": "4cba1b56",
   "metadata": {},
   "outputs": [],
   "source": []
  },
  {
   "cell_type": "markdown",
   "id": "9b2bd052",
   "metadata": {},
   "source": []
  },
  {
   "cell_type": "markdown",
   "id": "bad27942",
   "metadata": {},
   "source": [
    "#By using append\n",
    "Iteration 1: words = ['HELLO', 'WORLD']\n",
    "Iteration 2: words = ['PYTHON', 'PROGRAMMING']\n",
    "\n",
    "#By using extend\n",
    "After Iteration 1: capital_words = ['HELLO', 'WORLD']\n",
    "After Iteration 2: capital_words = ['HELLO', 'WORLD', 'PYTHON', 'PROGRAMMING']"
   ]
  }
 ],
 "metadata": {
  "kernelspec": {
   "display_name": "Python 3 (ipykernel)",
   "language": "python",
   "name": "python3"
  },
  "language_info": {
   "codemirror_mode": {
    "name": "ipython",
    "version": 3
   },
   "file_extension": ".py",
   "mimetype": "text/x-python",
   "name": "python",
   "nbconvert_exporter": "python",
   "pygments_lexer": "ipython3",
   "version": "3.9.12"
  }
 },
 "nbformat": 4,
 "nbformat_minor": 5
}
