{
 "cells": [
  {
   "cell_type": "markdown",
   "id": "9904c412",
   "metadata": {},
   "source": [
    "## Importing Libraries "
   ]
  },
  {
   "cell_type": "code",
   "execution_count": 208,
   "id": "f1a52681",
   "metadata": {},
   "outputs": [],
   "source": [
    "import numpy as np\n",
    "import pandas as pd\n",
    "import matplotlib.pyplot as plt\n",
    "import tensorflow as tf\n",
    "\n",
    "#data cleaning and preprocessing\n",
    "import re\n",
    "from nltk.corpus import stopwords\n",
    "from tensorflow.keras.preprocessing.text import Tokenizer\n",
    "from tensorflow.keras.preprocessing.sequence import pad_sequences\n",
    "\n",
    "#model building\n",
    "from tensorflow.keras.layers import Dense,Embedding,LSTM,Dropout\n",
    "from tensorflow.keras.models import Sequential"
   ]
  },
  {
   "cell_type": "code",
   "execution_count": 252,
   "id": "b7a2862e",
   "metadata": {},
   "outputs": [],
   "source": [
    "df_train=pd.read_csv(r\"SMS_train.csv\",encoding='latin-1')#it supports on non-ascii keywords"
   ]
  },
  {
   "cell_type": "code",
   "execution_count": 253,
   "id": "27c34e70",
   "metadata": {},
   "outputs": [
    {
     "data": {
      "text/html": [
       "<div>\n",
       "<style scoped>\n",
       "    .dataframe tbody tr th:only-of-type {\n",
       "        vertical-align: middle;\n",
       "    }\n",
       "\n",
       "    .dataframe tbody tr th {\n",
       "        vertical-align: top;\n",
       "    }\n",
       "\n",
       "    .dataframe thead th {\n",
       "        text-align: right;\n",
       "    }\n",
       "</style>\n",
       "<table border=\"1\" class=\"dataframe\">\n",
       "  <thead>\n",
       "    <tr style=\"text-align: right;\">\n",
       "      <th></th>\n",
       "      <th>S. No.</th>\n",
       "      <th>Message_body</th>\n",
       "      <th>Label</th>\n",
       "    </tr>\n",
       "  </thead>\n",
       "  <tbody>\n",
       "    <tr>\n",
       "      <th>0</th>\n",
       "      <td>1</td>\n",
       "      <td>Rofl. Its true to its name</td>\n",
       "      <td>Non-Spam</td>\n",
       "    </tr>\n",
       "    <tr>\n",
       "      <th>1</th>\n",
       "      <td>2</td>\n",
       "      <td>The guy did some bitching but I acted like i'd...</td>\n",
       "      <td>Non-Spam</td>\n",
       "    </tr>\n",
       "    <tr>\n",
       "      <th>2</th>\n",
       "      <td>3</td>\n",
       "      <td>Pity, * was in mood for that. So...any other s...</td>\n",
       "      <td>Non-Spam</td>\n",
       "    </tr>\n",
       "    <tr>\n",
       "      <th>3</th>\n",
       "      <td>4</td>\n",
       "      <td>Will ü b going to esplanade fr home?</td>\n",
       "      <td>Non-Spam</td>\n",
       "    </tr>\n",
       "    <tr>\n",
       "      <th>4</th>\n",
       "      <td>5</td>\n",
       "      <td>This is the 2nd time we have tried 2 contact u...</td>\n",
       "      <td>Spam</td>\n",
       "    </tr>\n",
       "    <tr>\n",
       "      <th>...</th>\n",
       "      <td>...</td>\n",
       "      <td>...</td>\n",
       "      <td>...</td>\n",
       "    </tr>\n",
       "    <tr>\n",
       "      <th>952</th>\n",
       "      <td>953</td>\n",
       "      <td>hows my favourite person today? r u workin har...</td>\n",
       "      <td>Non-Spam</td>\n",
       "    </tr>\n",
       "    <tr>\n",
       "      <th>953</th>\n",
       "      <td>954</td>\n",
       "      <td>How much you got for cleaning</td>\n",
       "      <td>Non-Spam</td>\n",
       "    </tr>\n",
       "    <tr>\n",
       "      <th>954</th>\n",
       "      <td>955</td>\n",
       "      <td>Sorry da. I gone mad so many pending works wha...</td>\n",
       "      <td>Non-Spam</td>\n",
       "    </tr>\n",
       "    <tr>\n",
       "      <th>955</th>\n",
       "      <td>956</td>\n",
       "      <td>Wat time ü finish?</td>\n",
       "      <td>Non-Spam</td>\n",
       "    </tr>\n",
       "    <tr>\n",
       "      <th>956</th>\n",
       "      <td>957</td>\n",
       "      <td>Just glad to be talking to you.</td>\n",
       "      <td>Non-Spam</td>\n",
       "    </tr>\n",
       "  </tbody>\n",
       "</table>\n",
       "<p>957 rows × 3 columns</p>\n",
       "</div>"
      ],
      "text/plain": [
       "     S. No.                                       Message_body     Label\n",
       "0         1                         Rofl. Its true to its name  Non-Spam\n",
       "1         2  The guy did some bitching but I acted like i'd...  Non-Spam\n",
       "2         3  Pity, * was in mood for that. So...any other s...  Non-Spam\n",
       "3         4               Will ü b going to esplanade fr home?  Non-Spam\n",
       "4         5  This is the 2nd time we have tried 2 contact u...      Spam\n",
       "..      ...                                                ...       ...\n",
       "952     953  hows my favourite person today? r u workin har...  Non-Spam\n",
       "953     954                      How much you got for cleaning  Non-Spam\n",
       "954     955  Sorry da. I gone mad so many pending works wha...  Non-Spam\n",
       "955     956                                 Wat time ü finish?  Non-Spam\n",
       "956     957                    Just glad to be talking to you.  Non-Spam\n",
       "\n",
       "[957 rows x 3 columns]"
      ]
     },
     "execution_count": 253,
     "metadata": {},
     "output_type": "execute_result"
    }
   ],
   "source": [
    "df_train"
   ]
  },
  {
   "cell_type": "code",
   "execution_count": 254,
   "id": "b651dab2",
   "metadata": {},
   "outputs": [],
   "source": [
    "df_test=pd.read_csv(r\"SMS_test.csv\",encoding='latin-1')"
   ]
  },
  {
   "cell_type": "code",
   "execution_count": 212,
   "id": "e852b3cb",
   "metadata": {},
   "outputs": [
    {
     "data": {
      "text/html": [
       "<div>\n",
       "<style scoped>\n",
       "    .dataframe tbody tr th:only-of-type {\n",
       "        vertical-align: middle;\n",
       "    }\n",
       "\n",
       "    .dataframe tbody tr th {\n",
       "        vertical-align: top;\n",
       "    }\n",
       "\n",
       "    .dataframe thead th {\n",
       "        text-align: right;\n",
       "    }\n",
       "</style>\n",
       "<table border=\"1\" class=\"dataframe\">\n",
       "  <thead>\n",
       "    <tr style=\"text-align: right;\">\n",
       "      <th></th>\n",
       "      <th>S. No.</th>\n",
       "      <th>Message_body</th>\n",
       "      <th>Label</th>\n",
       "    </tr>\n",
       "  </thead>\n",
       "  <tbody>\n",
       "    <tr>\n",
       "      <th>0</th>\n",
       "      <td>1</td>\n",
       "      <td>UpgrdCentre Orange customer, you may now claim...</td>\n",
       "      <td>Spam</td>\n",
       "    </tr>\n",
       "    <tr>\n",
       "      <th>1</th>\n",
       "      <td>2</td>\n",
       "      <td>Loan for any purpose £500 - £75,000. Homeowner...</td>\n",
       "      <td>Spam</td>\n",
       "    </tr>\n",
       "    <tr>\n",
       "      <th>2</th>\n",
       "      <td>3</td>\n",
       "      <td>Congrats! Nokia 3650 video camera phone is you...</td>\n",
       "      <td>Spam</td>\n",
       "    </tr>\n",
       "    <tr>\n",
       "      <th>3</th>\n",
       "      <td>4</td>\n",
       "      <td>URGENT! Your Mobile number has been awarded wi...</td>\n",
       "      <td>Spam</td>\n",
       "    </tr>\n",
       "    <tr>\n",
       "      <th>4</th>\n",
       "      <td>5</td>\n",
       "      <td>Someone has contacted our dating service and e...</td>\n",
       "      <td>Spam</td>\n",
       "    </tr>\n",
       "    <tr>\n",
       "      <th>...</th>\n",
       "      <td>...</td>\n",
       "      <td>...</td>\n",
       "      <td>...</td>\n",
       "    </tr>\n",
       "    <tr>\n",
       "      <th>120</th>\n",
       "      <td>121</td>\n",
       "      <td>7 wonders in My WORLD 7th You 6th Ur style 5th...</td>\n",
       "      <td>Non-Spam</td>\n",
       "    </tr>\n",
       "    <tr>\n",
       "      <th>121</th>\n",
       "      <td>122</td>\n",
       "      <td>Try to do something dear. You read something f...</td>\n",
       "      <td>Non-Spam</td>\n",
       "    </tr>\n",
       "    <tr>\n",
       "      <th>122</th>\n",
       "      <td>123</td>\n",
       "      <td>Sun ah... Thk mayb can if dun have anythin on....</td>\n",
       "      <td>Non-Spam</td>\n",
       "    </tr>\n",
       "    <tr>\n",
       "      <th>123</th>\n",
       "      <td>124</td>\n",
       "      <td>SYMPTOMS when U are in love: \"1.U like listeni...</td>\n",
       "      <td>Non-Spam</td>\n",
       "    </tr>\n",
       "    <tr>\n",
       "      <th>124</th>\n",
       "      <td>125</td>\n",
       "      <td>Great. Have a safe trip. Dont panic surrender ...</td>\n",
       "      <td>Non-Spam</td>\n",
       "    </tr>\n",
       "  </tbody>\n",
       "</table>\n",
       "<p>125 rows × 3 columns</p>\n",
       "</div>"
      ],
      "text/plain": [
       "     S. No.                                       Message_body     Label\n",
       "0         1  UpgrdCentre Orange customer, you may now claim...      Spam\n",
       "1         2  Loan for any purpose £500 - £75,000. Homeowner...      Spam\n",
       "2         3  Congrats! Nokia 3650 video camera phone is you...      Spam\n",
       "3         4  URGENT! Your Mobile number has been awarded wi...      Spam\n",
       "4         5  Someone has contacted our dating service and e...      Spam\n",
       "..      ...                                                ...       ...\n",
       "120     121  7 wonders in My WORLD 7th You 6th Ur style 5th...  Non-Spam\n",
       "121     122  Try to do something dear. You read something f...  Non-Spam\n",
       "122     123  Sun ah... Thk mayb can if dun have anythin on....  Non-Spam\n",
       "123     124  SYMPTOMS when U are in love: \"1.U like listeni...  Non-Spam\n",
       "124     125  Great. Have a safe trip. Dont panic surrender ...  Non-Spam\n",
       "\n",
       "[125 rows x 3 columns]"
      ]
     },
     "execution_count": 212,
     "metadata": {},
     "output_type": "execute_result"
    }
   ],
   "source": [
    "df_test"
   ]
  },
  {
   "cell_type": "markdown",
   "id": "65246123",
   "metadata": {},
   "source": [
    "## Data-Cleaning & Preprocessing"
   ]
  },
  {
   "cell_type": "code",
   "execution_count": 213,
   "id": "19aae89e",
   "metadata": {},
   "outputs": [],
   "source": [
    "#need to drop S.No. column and Label needs to be encoded"
   ]
  },
  {
   "cell_type": "code",
   "execution_count": 214,
   "id": "3063d985",
   "metadata": {},
   "outputs": [
    {
     "data": {
      "text/plain": [
       "Index(['S. No.', 'Message_body', 'Label'], dtype='object')"
      ]
     },
     "execution_count": 214,
     "metadata": {},
     "output_type": "execute_result"
    }
   ],
   "source": [
    "df_train.columns"
   ]
  },
  {
   "cell_type": "code",
   "execution_count": 215,
   "id": "d3150a91",
   "metadata": {},
   "outputs": [],
   "source": [
    "#By using label encoding techniques also u can try\n",
    "df_train['Label']=df_train['Label'].map({'Spam':0,'Non-Spam':1})\n",
    "df_test['Label']=df_test['Label'].map({'Spam':0,'Non-Spam':1})"
   ]
  },
  {
   "cell_type": "code",
   "execution_count": 216,
   "id": "41082b99",
   "metadata": {},
   "outputs": [
    {
     "data": {
      "text/html": [
       "<div>\n",
       "<style scoped>\n",
       "    .dataframe tbody tr th:only-of-type {\n",
       "        vertical-align: middle;\n",
       "    }\n",
       "\n",
       "    .dataframe tbody tr th {\n",
       "        vertical-align: top;\n",
       "    }\n",
       "\n",
       "    .dataframe thead th {\n",
       "        text-align: right;\n",
       "    }\n",
       "</style>\n",
       "<table border=\"1\" class=\"dataframe\">\n",
       "  <thead>\n",
       "    <tr style=\"text-align: right;\">\n",
       "      <th></th>\n",
       "      <th>S. No.</th>\n",
       "      <th>Message_body</th>\n",
       "      <th>Label</th>\n",
       "    </tr>\n",
       "  </thead>\n",
       "  <tbody>\n",
       "    <tr>\n",
       "      <th>0</th>\n",
       "      <td>1</td>\n",
       "      <td>Rofl. Its true to its name</td>\n",
       "      <td>1</td>\n",
       "    </tr>\n",
       "    <tr>\n",
       "      <th>1</th>\n",
       "      <td>2</td>\n",
       "      <td>The guy did some bitching but I acted like i'd...</td>\n",
       "      <td>1</td>\n",
       "    </tr>\n",
       "    <tr>\n",
       "      <th>2</th>\n",
       "      <td>3</td>\n",
       "      <td>Pity, * was in mood for that. So...any other s...</td>\n",
       "      <td>1</td>\n",
       "    </tr>\n",
       "    <tr>\n",
       "      <th>3</th>\n",
       "      <td>4</td>\n",
       "      <td>Will ü b going to esplanade fr home?</td>\n",
       "      <td>1</td>\n",
       "    </tr>\n",
       "    <tr>\n",
       "      <th>4</th>\n",
       "      <td>5</td>\n",
       "      <td>This is the 2nd time we have tried 2 contact u...</td>\n",
       "      <td>0</td>\n",
       "    </tr>\n",
       "    <tr>\n",
       "      <th>...</th>\n",
       "      <td>...</td>\n",
       "      <td>...</td>\n",
       "      <td>...</td>\n",
       "    </tr>\n",
       "    <tr>\n",
       "      <th>952</th>\n",
       "      <td>953</td>\n",
       "      <td>hows my favourite person today? r u workin har...</td>\n",
       "      <td>1</td>\n",
       "    </tr>\n",
       "    <tr>\n",
       "      <th>953</th>\n",
       "      <td>954</td>\n",
       "      <td>How much you got for cleaning</td>\n",
       "      <td>1</td>\n",
       "    </tr>\n",
       "    <tr>\n",
       "      <th>954</th>\n",
       "      <td>955</td>\n",
       "      <td>Sorry da. I gone mad so many pending works wha...</td>\n",
       "      <td>1</td>\n",
       "    </tr>\n",
       "    <tr>\n",
       "      <th>955</th>\n",
       "      <td>956</td>\n",
       "      <td>Wat time ü finish?</td>\n",
       "      <td>1</td>\n",
       "    </tr>\n",
       "    <tr>\n",
       "      <th>956</th>\n",
       "      <td>957</td>\n",
       "      <td>Just glad to be talking to you.</td>\n",
       "      <td>1</td>\n",
       "    </tr>\n",
       "  </tbody>\n",
       "</table>\n",
       "<p>957 rows × 3 columns</p>\n",
       "</div>"
      ],
      "text/plain": [
       "     S. No.                                       Message_body  Label\n",
       "0         1                         Rofl. Its true to its name      1\n",
       "1         2  The guy did some bitching but I acted like i'd...      1\n",
       "2         3  Pity, * was in mood for that. So...any other s...      1\n",
       "3         4               Will ü b going to esplanade fr home?      1\n",
       "4         5  This is the 2nd time we have tried 2 contact u...      0\n",
       "..      ...                                                ...    ...\n",
       "952     953  hows my favourite person today? r u workin har...      1\n",
       "953     954                      How much you got for cleaning      1\n",
       "954     955  Sorry da. I gone mad so many pending works wha...      1\n",
       "955     956                                 Wat time ü finish?      1\n",
       "956     957                    Just glad to be talking to you.      1\n",
       "\n",
       "[957 rows x 3 columns]"
      ]
     },
     "execution_count": 216,
     "metadata": {},
     "output_type": "execute_result"
    }
   ],
   "source": [
    "df_train"
   ]
  },
  {
   "cell_type": "code",
   "execution_count": 217,
   "id": "b4f827e7",
   "metadata": {},
   "outputs": [],
   "source": [
    "df_train = df_train.drop('S. No.', axis=1)\n",
    "df_test = df_test.drop('S. No.', axis=1)"
   ]
  },
  {
   "cell_type": "code",
   "execution_count": 218,
   "id": "13dad1f0",
   "metadata": {},
   "outputs": [],
   "source": [
    "STOPWORDS = stopwords.words(\"english\") #it is inbuild stopwords you can build ur own stop words"
   ]
  },
  {
   "cell_type": "code",
   "execution_count": 219,
   "id": "4fcbfb9b",
   "metadata": {},
   "outputs": [],
   "source": [
    "def clean(text):\n",
    "    text = text.lower()\n",
    "    text = re.sub(\"(http|https|www)(:|\\.)\\S+.com\",\" \",text)\n",
    "    text = re.sub(\"[^\\w\\d]\",\" \",text)\n",
    "    text = \" \".join([t for t in text.split() if t not in STOPWORDS])\n",
    "    return text"
   ]
  },
  {
   "cell_type": "code",
   "execution_count": 220,
   "id": "bb94b2e0",
   "metadata": {},
   "outputs": [
    {
     "data": {
      "text/plain": [
       "'hello sharanya subscribe data discovery'"
      ]
     },
     "execution_count": 220,
     "metadata": {},
     "output_type": "execute_result"
    }
   ],
   "source": [
    "check=clean(\"hello I'm Sharanya! do subscribe to data-discovery\")\n",
    "check"
   ]
  },
  {
   "cell_type": "code",
   "execution_count": 221,
   "id": "a0ee94c1",
   "metadata": {},
   "outputs": [],
   "source": [
    "df_train[\"text\"] = df_train[\"Message_body\"].apply(lambda x : clean(x))\n",
    "df_test[\"text\"] = df_test[\"Message_body\"].apply(lambda x : clean(x))"
   ]
  },
  {
   "cell_type": "code",
   "execution_count": 222,
   "id": "a09a3b8c",
   "metadata": {},
   "outputs": [
    {
     "data": {
      "text/html": [
       "<div>\n",
       "<style scoped>\n",
       "    .dataframe tbody tr th:only-of-type {\n",
       "        vertical-align: middle;\n",
       "    }\n",
       "\n",
       "    .dataframe tbody tr th {\n",
       "        vertical-align: top;\n",
       "    }\n",
       "\n",
       "    .dataframe thead th {\n",
       "        text-align: right;\n",
       "    }\n",
       "</style>\n",
       "<table border=\"1\" class=\"dataframe\">\n",
       "  <thead>\n",
       "    <tr style=\"text-align: right;\">\n",
       "      <th></th>\n",
       "      <th>Message_body</th>\n",
       "      <th>Label</th>\n",
       "      <th>text</th>\n",
       "    </tr>\n",
       "  </thead>\n",
       "  <tbody>\n",
       "    <tr>\n",
       "      <th>0</th>\n",
       "      <td>Rofl. Its true to its name</td>\n",
       "      <td>1</td>\n",
       "      <td>rofl true name</td>\n",
       "    </tr>\n",
       "    <tr>\n",
       "      <th>1</th>\n",
       "      <td>The guy did some bitching but I acted like i'd...</td>\n",
       "      <td>1</td>\n",
       "      <td>guy bitching acted like interested buying some...</td>\n",
       "    </tr>\n",
       "    <tr>\n",
       "      <th>2</th>\n",
       "      <td>Pity, * was in mood for that. So...any other s...</td>\n",
       "      <td>1</td>\n",
       "      <td>pity mood suggestions</td>\n",
       "    </tr>\n",
       "    <tr>\n",
       "      <th>3</th>\n",
       "      <td>Will ü b going to esplanade fr home?</td>\n",
       "      <td>1</td>\n",
       "      <td>ü b going esplanade fr home</td>\n",
       "    </tr>\n",
       "    <tr>\n",
       "      <th>4</th>\n",
       "      <td>This is the 2nd time we have tried 2 contact u...</td>\n",
       "      <td>0</td>\n",
       "      <td>2nd time tried 2 contact u u 750 pound prize 2...</td>\n",
       "    </tr>\n",
       "    <tr>\n",
       "      <th>...</th>\n",
       "      <td>...</td>\n",
       "      <td>...</td>\n",
       "      <td>...</td>\n",
       "    </tr>\n",
       "    <tr>\n",
       "      <th>952</th>\n",
       "      <td>hows my favourite person today? r u workin har...</td>\n",
       "      <td>1</td>\n",
       "      <td>hows favourite person today r u workin hard sl...</td>\n",
       "    </tr>\n",
       "    <tr>\n",
       "      <th>953</th>\n",
       "      <td>How much you got for cleaning</td>\n",
       "      <td>1</td>\n",
       "      <td>much got cleaning</td>\n",
       "    </tr>\n",
       "    <tr>\n",
       "      <th>954</th>\n",
       "      <td>Sorry da. I gone mad so many pending works wha...</td>\n",
       "      <td>1</td>\n",
       "      <td>sorry da gone mad many pending works</td>\n",
       "    </tr>\n",
       "    <tr>\n",
       "      <th>955</th>\n",
       "      <td>Wat time ü finish?</td>\n",
       "      <td>1</td>\n",
       "      <td>wat time ü finish</td>\n",
       "    </tr>\n",
       "    <tr>\n",
       "      <th>956</th>\n",
       "      <td>Just glad to be talking to you.</td>\n",
       "      <td>1</td>\n",
       "      <td>glad talking</td>\n",
       "    </tr>\n",
       "  </tbody>\n",
       "</table>\n",
       "<p>957 rows × 3 columns</p>\n",
       "</div>"
      ],
      "text/plain": [
       "                                          Message_body  Label  \\\n",
       "0                           Rofl. Its true to its name      1   \n",
       "1    The guy did some bitching but I acted like i'd...      1   \n",
       "2    Pity, * was in mood for that. So...any other s...      1   \n",
       "3                 Will ü b going to esplanade fr home?      1   \n",
       "4    This is the 2nd time we have tried 2 contact u...      0   \n",
       "..                                                 ...    ...   \n",
       "952  hows my favourite person today? r u workin har...      1   \n",
       "953                      How much you got for cleaning      1   \n",
       "954  Sorry da. I gone mad so many pending works wha...      1   \n",
       "955                                 Wat time ü finish?      1   \n",
       "956                    Just glad to be talking to you.      1   \n",
       "\n",
       "                                                  text  \n",
       "0                                       rofl true name  \n",
       "1    guy bitching acted like interested buying some...  \n",
       "2                                pity mood suggestions  \n",
       "3                          ü b going esplanade fr home  \n",
       "4    2nd time tried 2 contact u u 750 pound prize 2...  \n",
       "..                                                 ...  \n",
       "952  hows favourite person today r u workin hard sl...  \n",
       "953                                  much got cleaning  \n",
       "954               sorry da gone mad many pending works  \n",
       "955                                  wat time ü finish  \n",
       "956                                       glad talking  \n",
       "\n",
       "[957 rows x 3 columns]"
      ]
     },
     "execution_count": 222,
     "metadata": {},
     "output_type": "execute_result"
    }
   ],
   "source": [
    "df_train"
   ]
  },
  {
   "cell_type": "code",
   "execution_count": 223,
   "id": "97a22d33",
   "metadata": {},
   "outputs": [],
   "source": [
    "df_train = df_train.drop('Message_body', axis=1)\n",
    "df_test = df_test.drop('Message_body', axis=1)"
   ]
  },
  {
   "cell_type": "code",
   "execution_count": 224,
   "id": "0ba36d87",
   "metadata": {},
   "outputs": [
    {
     "data": {
      "text/html": [
       "<div>\n",
       "<style scoped>\n",
       "    .dataframe tbody tr th:only-of-type {\n",
       "        vertical-align: middle;\n",
       "    }\n",
       "\n",
       "    .dataframe tbody tr th {\n",
       "        vertical-align: top;\n",
       "    }\n",
       "\n",
       "    .dataframe thead th {\n",
       "        text-align: right;\n",
       "    }\n",
       "</style>\n",
       "<table border=\"1\" class=\"dataframe\">\n",
       "  <thead>\n",
       "    <tr style=\"text-align: right;\">\n",
       "      <th></th>\n",
       "      <th>Label</th>\n",
       "      <th>text</th>\n",
       "    </tr>\n",
       "  </thead>\n",
       "  <tbody>\n",
       "    <tr>\n",
       "      <th>0</th>\n",
       "      <td>0</td>\n",
       "      <td>upgrdcentre orange customer may claim free cam...</td>\n",
       "    </tr>\n",
       "    <tr>\n",
       "      <th>1</th>\n",
       "      <td>0</td>\n",
       "      <td>loan purpose 500 75 000 homeowners tenants wel...</td>\n",
       "    </tr>\n",
       "    <tr>\n",
       "      <th>2</th>\n",
       "      <td>0</td>\n",
       "      <td>congrats nokia 3650 video camera phone call 09...</td>\n",
       "    </tr>\n",
       "    <tr>\n",
       "      <th>3</th>\n",
       "      <td>0</td>\n",
       "      <td>urgent mobile number awarded 2000 prize guaran...</td>\n",
       "    </tr>\n",
       "    <tr>\n",
       "      <th>4</th>\n",
       "      <td>0</td>\n",
       "      <td>someone contacted dating service entered phone...</td>\n",
       "    </tr>\n",
       "    <tr>\n",
       "      <th>...</th>\n",
       "      <td>...</td>\n",
       "      <td>...</td>\n",
       "    </tr>\n",
       "    <tr>\n",
       "      <th>120</th>\n",
       "      <td>1</td>\n",
       "      <td>7 wonders world 7th 6th ur style 5th ur smile ...</td>\n",
       "    </tr>\n",
       "    <tr>\n",
       "      <th>121</th>\n",
       "      <td>1</td>\n",
       "      <td>try something dear read something exams</td>\n",
       "    </tr>\n",
       "    <tr>\n",
       "      <th>122</th>\n",
       "      <td>1</td>\n",
       "      <td>sun ah thk mayb dun anythin thk book e lesson ...</td>\n",
       "    </tr>\n",
       "    <tr>\n",
       "      <th>123</th>\n",
       "      <td>1</td>\n",
       "      <td>symptoms u love 1 u like listening songs 2 u g...</td>\n",
       "    </tr>\n",
       "    <tr>\n",
       "      <th>124</th>\n",
       "      <td>1</td>\n",
       "      <td>great safe trip dont panic surrender</td>\n",
       "    </tr>\n",
       "  </tbody>\n",
       "</table>\n",
       "<p>125 rows × 2 columns</p>\n",
       "</div>"
      ],
      "text/plain": [
       "     Label                                               text\n",
       "0        0  upgrdcentre orange customer may claim free cam...\n",
       "1        0  loan purpose 500 75 000 homeowners tenants wel...\n",
       "2        0  congrats nokia 3650 video camera phone call 09...\n",
       "3        0  urgent mobile number awarded 2000 prize guaran...\n",
       "4        0  someone contacted dating service entered phone...\n",
       "..     ...                                                ...\n",
       "120      1  7 wonders world 7th 6th ur style 5th ur smile ...\n",
       "121      1            try something dear read something exams\n",
       "122      1  sun ah thk mayb dun anythin thk book e lesson ...\n",
       "123      1  symptoms u love 1 u like listening songs 2 u g...\n",
       "124      1               great safe trip dont panic surrender\n",
       "\n",
       "[125 rows x 2 columns]"
      ]
     },
     "execution_count": 224,
     "metadata": {},
     "output_type": "execute_result"
    }
   ],
   "source": [
    "df_test"
   ]
  },
  {
   "cell_type": "markdown",
   "id": "081eb46b",
   "metadata": {},
   "source": [
    "## Encoding "
   ]
  },
  {
   "cell_type": "code",
   "execution_count": 225,
   "id": "57b4a046",
   "metadata": {},
   "outputs": [],
   "source": [
    "#Word to Vec conversion\n",
    "vocab_size=5000\n",
    "ml = 20 #max_length"
   ]
  },
  {
   "cell_type": "code",
   "execution_count": 226,
   "id": "5b64d746",
   "metadata": {},
   "outputs": [],
   "source": [
    "token = Tokenizer(num_words=vocab_size)\n",
    "token.fit_on_texts(df_train.text)"
   ]
  },
  {
   "cell_type": "code",
   "execution_count": 227,
   "id": "e1c33e4b",
   "metadata": {},
   "outputs": [],
   "source": [
    "x_train = token.texts_to_sequences(df_train.text)\n",
    "x_test = token.texts_to_sequences(df_test.text)"
   ]
  },
  {
   "cell_type": "code",
   "execution_count": 228,
   "id": "fbe4379d",
   "metadata": {},
   "outputs": [
    {
     "data": {
      "text/plain": [
       "0                                         rofl true name\n",
       "1      guy bitching acted like interested buying some...\n",
       "2                                  pity mood suggestions\n",
       "3                            ü b going esplanade fr home\n",
       "4      2nd time tried 2 contact u u 750 pound prize 2...\n",
       "                             ...                        \n",
       "952    hows favourite person today r u workin hard sl...\n",
       "953                                    much got cleaning\n",
       "954                 sorry da gone mad many pending works\n",
       "955                                    wat time ü finish\n",
       "956                                         glad talking\n",
       "Name: text, Length: 957, dtype: object"
      ]
     },
     "execution_count": 228,
     "metadata": {},
     "output_type": "execute_result"
    }
   ],
   "source": [
    "df_train['text']"
   ]
  },
  {
   "cell_type": "code",
   "execution_count": 229,
   "id": "269041a1",
   "metadata": {},
   "outputs": [
    {
     "data": {
      "text/plain": [
       "[219, 1180, 702, 12, 515, 397, 138, 220, 92, 41, 398, 72, 8]"
      ]
     },
     "execution_count": 229,
     "metadata": {},
     "output_type": "execute_result"
    }
   ],
   "source": [
    "x_train[1]"
   ]
  },
  {
   "cell_type": "code",
   "execution_count": 230,
   "id": "adc821fb",
   "metadata": {},
   "outputs": [],
   "source": [
    "#Convert the text into equal dimensions by using padding sequence\n",
    "x_train = pad_sequences(x_train,truncating=\"pre\",maxlen=ml,padding=\"pre\")\n",
    "x_test = pad_sequences(x_test,truncating=\"pre\",maxlen=ml,padding=\"pre\")"
   ]
  },
  {
   "cell_type": "code",
   "execution_count": 231,
   "id": "2e064c0e",
   "metadata": {},
   "outputs": [
    {
     "data": {
      "text/plain": [
       "array([[   0,    0,    0, ..., 1179,  187,  164],\n",
       "       [   0,    0,    0, ...,  398,   72,    8],\n",
       "       [   0,    0,    0, ..., 1181, 1182, 1183],\n",
       "       ...,\n",
       "       [   0,    0,    0, ...,   90, 3058,  332],\n",
       "       [   0,    0,    0, ...,   13,   27,  185],\n",
       "       [   0,    0,    0, ...,    0,  675,  671]])"
      ]
     },
     "execution_count": 231,
     "metadata": {},
     "output_type": "execute_result"
    }
   ],
   "source": [
    "x_train"
   ]
  },
  {
   "cell_type": "markdown",
   "id": "b331a375",
   "metadata": {},
   "source": [
    "## Model Building "
   ]
  },
  {
   "cell_type": "code",
   "execution_count": 232,
   "id": "c122d16f",
   "metadata": {},
   "outputs": [],
   "source": [
    "model = Sequential([ \n",
    "    \n",
    "    Embedding(vocab_size,100,input_length=ml),\n",
    "    Dropout(0.2),\n",
    "    LSTM(200),\n",
    "    Dropout(0.2),\n",
    "    Dense(1,activation=\"sigmoid\")\n",
    "])"
   ]
  },
  {
   "cell_type": "code",
   "execution_count": 233,
   "id": "3dcad70a",
   "metadata": {},
   "outputs": [],
   "source": [
    "#during model building what all compilation u need to do\n",
    "model.compile(loss=\"binary_crossentropy\",optimizer=\"adam\",metrics=[\"acc\"])"
   ]
  },
  {
   "cell_type": "code",
   "execution_count": 234,
   "id": "c6cc5774",
   "metadata": {},
   "outputs": [
    {
     "name": "stdout",
     "output_type": "stream",
     "text": [
      "Model: \"sequential_3\"\n",
      "_________________________________________________________________\n",
      " Layer (type)                Output Shape              Param #   \n",
      "=================================================================\n",
      " embedding_3 (Embedding)     (None, 20, 100)           500000    \n",
      "                                                                 \n",
      " dropout_6 (Dropout)         (None, 20, 100)           0         \n",
      "                                                                 \n",
      " lstm_3 (LSTM)               (None, 200)               240800    \n",
      "                                                                 \n",
      " dropout_7 (Dropout)         (None, 200)               0         \n",
      "                                                                 \n",
      " dense_3 (Dense)             (None, 1)                 201       \n",
      "                                                                 \n",
      "=================================================================\n",
      "Total params: 741,001\n",
      "Trainable params: 741,001\n",
      "Non-trainable params: 0\n",
      "_________________________________________________________________\n"
     ]
    }
   ],
   "source": [
    "model.summary()"
   ]
  },
  {
   "cell_type": "code",
   "execution_count": 235,
   "id": "a7f6ca9d",
   "metadata": {},
   "outputs": [
    {
     "name": "stdout",
     "output_type": "stream",
     "text": [
      "Epoch 1/5\n",
      "30/30 [==============================] - 11s 150ms/step - loss: 0.3939 - acc: 0.8621 - val_loss: 1.6883 - val_acc: 0.4480\n",
      "Epoch 2/5\n",
      "30/30 [==============================] - 3s 87ms/step - loss: 0.1512 - acc: 0.9624 - val_loss: 0.4945 - val_acc: 0.7760\n",
      "Epoch 3/5\n",
      "30/30 [==============================] - 2s 78ms/step - loss: 0.0530 - acc: 0.9864 - val_loss: 0.1915 - val_acc: 0.9200\n",
      "Epoch 4/5\n",
      "30/30 [==============================] - 2s 79ms/step - loss: 0.0179 - acc: 0.9948 - val_loss: 0.1126 - val_acc: 0.9600\n",
      "Epoch 5/5\n",
      "30/30 [==============================] - 2s 79ms/step - loss: 0.0209 - acc: 0.9969 - val_loss: 0.2360 - val_acc: 0.9040\n"
     ]
    }
   ],
   "source": [
    "history = model.fit(x_train,df_train[\"Label\"],batch_size=32,epochs=5,validation_data=(x_test,df_test[\"Label\"]))"
   ]
  },
  {
   "cell_type": "code",
   "execution_count": 236,
   "id": "424c8957",
   "metadata": {},
   "outputs": [
    {
     "data": {
      "image/png": "[encoded data removed]",
      "text/plain": [
       "<Figure size 432x288 with 1 Axes>"
      ]
     },
     "metadata": {
      "needs_background": "light"
     },
     "output_type": "display_data"
    }
   ],
   "source": [
    "history_df  = pd.DataFrame(history.history)\n",
    "history_df[[\"acc\",\"val_acc\"]].plot(title=\"Accuracy\")\n",
    "plt.style.use('dark_background')"
   ]
  },
  {
   "cell_type": "code",
   "execution_count": 257,
   "id": "b17149ec",
   "metadata": {},
   "outputs": [
    {
     "data": {
      "text/plain": [
       "<AxesSubplot:title={'center':'Loss'}>"
      ]
     },
     "execution_count": 257,
     "metadata": {},
     "output_type": "execute_result"
    },
    {
     "data": {
      "image/png": "[encoded data removed]",
      "text/plain": [
       "<Figure size 432x288 with 1 Axes>"
      ]
     },
     "metadata": {},
     "output_type": "display_data"
    }
   ],
   "source": [
    "history_df[['loss','val_loss']].plot(title='Loss')"
   ]
  },
  {
   "cell_type": "code",
   "execution_count": 241,
   "id": "154c4015",
   "metadata": {},
   "outputs": [
    {
     "data": {
      "image/png": "[encoded data removed]",
      "text/plain": [
       "<Figure size 432x288 with 1 Axes>"
      ]
     },
     "metadata": {},
     "output_type": "display_data"
    }
   ],
   "source": [
    "label_counts = df_train['Label'].value_counts()\n",
    "\n",
    "# Create a bar plot\n",
    "label_counts.plot(kind='bar')\n",
    "\n",
    "# Add labels and a title\n",
    "plt.xlabel('Label')\n",
    "plt.ylabel('Count')\n",
    "plt.title('Distribution of Labels')\n",
    "\n",
    "# Show the plot\n",
    "plt.show()\n"
   ]
  },
  {
   "cell_type": "code",
   "execution_count": 242,
   "id": "d55ca993",
   "metadata": {},
   "outputs": [],
   "source": [
    "import pandas as pd\n",
    "import numpy as np\n",
    "\n",
    "# Assuming df is your DataFrame\n",
    "# Filter rows where 'Label' is 1\n",
    "non_spam_rows = df_train[df_train['Label'] == 1]\n",
    "\n",
    "# Calculate the number of rows to remove (50% of non-spam rows)\n",
    "num_rows_to_remove = len(non_spam_rows) // 4\n",
    "\n",
    "# Randomly sample and drop the specified number of rows\n",
    "if num_rows_to_remove > 0:\n",
    "    rows_to_remove = np.random.choice(non_spam_rows.index, num_rows_to_remove, replace=False)\n",
    "    df_train = df_train.drop(rows_to_remove)\n",
    "\n",
    "# Now, df contains 50% of the non-spam rows randomly sampled\n"
   ]
  },
  {
   "cell_type": "code",
   "execution_count": 243,
   "id": "a6a4480c",
   "metadata": {},
   "outputs": [
    {
     "data": {
      "image/png": "[encoded data removed]",
      "text/plain": [
       "<Figure size 432x288 with 1 Axes>"
      ]
     },
     "metadata": {},
     "output_type": "display_data"
    }
   ],
   "source": [
    "label_counts = df_train['Label'].value_counts()\n",
    "\n",
    "# Create a bar plot\n",
    "label_counts.plot(kind='bar')\n",
    "\n",
    "# Add labels and a title\n",
    "plt.xlabel('Label')\n",
    "plt.ylabel('Count')\n",
    "plt.title('Distribution of Labels')\n",
    "\n",
    "# Show the plot\n",
    "plt.show()\n"
   ]
  },
  {
   "cell_type": "code",
   "execution_count": 244,
   "id": "bf630899",
   "metadata": {},
   "outputs": [
    {
     "data": {
      "text/html": [
       "<div>\n",
       "<style scoped>\n",
       "    .dataframe tbody tr th:only-of-type {\n",
       "        vertical-align: middle;\n",
       "    }\n",
       "\n",
       "    .dataframe tbody tr th {\n",
       "        vertical-align: top;\n",
       "    }\n",
       "\n",
       "    .dataframe thead th {\n",
       "        text-align: right;\n",
       "    }\n",
       "</style>\n",
       "<table border=\"1\" class=\"dataframe\">\n",
       "  <thead>\n",
       "    <tr style=\"text-align: right;\">\n",
       "      <th></th>\n",
       "      <th>Label</th>\n",
       "      <th>text</th>\n",
       "    </tr>\n",
       "  </thead>\n",
       "  <tbody>\n",
       "    <tr>\n",
       "      <th>0</th>\n",
       "      <td>1</td>\n",
       "      <td>rofl true name</td>\n",
       "    </tr>\n",
       "    <tr>\n",
       "      <th>1</th>\n",
       "      <td>1</td>\n",
       "      <td>guy bitching acted like interested buying some...</td>\n",
       "    </tr>\n",
       "    <tr>\n",
       "      <th>3</th>\n",
       "      <td>1</td>\n",
       "      <td>ü b going esplanade fr home</td>\n",
       "    </tr>\n",
       "    <tr>\n",
       "      <th>4</th>\n",
       "      <td>0</td>\n",
       "      <td>2nd time tried 2 contact u u 750 pound prize 2...</td>\n",
       "    </tr>\n",
       "    <tr>\n",
       "      <th>5</th>\n",
       "      <td>0</td>\n",
       "      <td>reminder o2 get 2 50 pounds free call credit d...</td>\n",
       "    </tr>\n",
       "    <tr>\n",
       "      <th>...</th>\n",
       "      <td>...</td>\n",
       "      <td>...</td>\n",
       "    </tr>\n",
       "    <tr>\n",
       "      <th>952</th>\n",
       "      <td>1</td>\n",
       "      <td>hows favourite person today r u workin hard sl...</td>\n",
       "    </tr>\n",
       "    <tr>\n",
       "      <th>953</th>\n",
       "      <td>1</td>\n",
       "      <td>much got cleaning</td>\n",
       "    </tr>\n",
       "    <tr>\n",
       "      <th>954</th>\n",
       "      <td>1</td>\n",
       "      <td>sorry da gone mad many pending works</td>\n",
       "    </tr>\n",
       "    <tr>\n",
       "      <th>955</th>\n",
       "      <td>1</td>\n",
       "      <td>wat time ü finish</td>\n",
       "    </tr>\n",
       "    <tr>\n",
       "      <th>956</th>\n",
       "      <td>1</td>\n",
       "      <td>glad talking</td>\n",
       "    </tr>\n",
       "  </tbody>\n",
       "</table>\n",
       "<p>749 rows × 2 columns</p>\n",
       "</div>"
      ],
      "text/plain": [
       "     Label                                               text\n",
       "0        1                                     rofl true name\n",
       "1        1  guy bitching acted like interested buying some...\n",
       "3        1                        ü b going esplanade fr home\n",
       "4        0  2nd time tried 2 contact u u 750 pound prize 2...\n",
       "5        0  reminder o2 get 2 50 pounds free call credit d...\n",
       "..     ...                                                ...\n",
       "952      1  hows favourite person today r u workin hard sl...\n",
       "953      1                                  much got cleaning\n",
       "954      1               sorry da gone mad many pending works\n",
       "955      1                                  wat time ü finish\n",
       "956      1                                       glad talking\n",
       "\n",
       "[749 rows x 2 columns]"
      ]
     },
     "execution_count": 244,
     "metadata": {},
     "output_type": "execute_result"
    }
   ],
   "source": [
    "df_train"
   ]
  }
 ],
 "metadata": {
  "kernelspec": {
   "display_name": "Python 3 (ipykernel)",
   "language": "python",
   "name": "python3"
  },
  "language_info": {
   "codemirror_mode": {
    "name": "ipython",
    "version": 3
   },
   "file_extension": ".py",
   "mimetype": "text/x-python",
   "name": "python",
   "nbconvert_exporter": "python",
   "pygments_lexer": "ipython3",
   "version": "3.9.12"
  }
 },
 "nbformat": 4,
 "nbformat_minor": 5
}
