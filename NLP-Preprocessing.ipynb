{
 "cells": [
  {
   "cell_type": "markdown",
   "metadata": {},
   "source": [
    "### Text-Pre-Processing-1 "
   ]
  },
  {
   "cell_type": "code",
   "execution_count": 1,
   "metadata": {},
   "outputs": [
    {
     "name": "stdout",
     "output_type": "stream",
     "text": [
      "Requirement already satisfied: nltk in c:\\users\\deepa\\anaconda3\\lib\\site-packages (3.4.5)\n",
      "Requirement already satisfied: six in c:\\users\\deepa\\anaconda3\\lib\\site-packages (from nltk) (1.12.0)\n",
      "Note: you may need to restart the kernel to use updated packages.\n"
     ]
    }
   ],
   "source": [
    "pip install nltk"
   ]
  },
  {
   "cell_type": "code",
   "execution_count": 2,
   "metadata": {},
   "outputs": [],
   "source": [
    "import nltk\n",
    "from nltk.stem import PorterStemmer\n",
    "from nltk.corpus import stopwords"
   ]
  },
  {
   "cell_type": "code",
   "execution_count": 3,
   "metadata": {},
   "outputs": [
    {
     "name": "stderr",
     "output_type": "stream",
     "text": [
      "[nltk_data] Downloading package punkt to\n",
      "[nltk_data]     C:\\Users\\deepa\\AppData\\Roaming\\nltk_data...\n",
      "[nltk_data]   Unzipping tokenizers\\punkt.zip.\n"
     ]
    },
    {
     "data": {
      "text/plain": [
       "True"
      ]
     },
     "execution_count": 3,
     "metadata": {},
     "output_type": "execute_result"
    }
   ],
   "source": [
    "nltk.download('punkt')"
   ]
  },
  {
   "cell_type": "code",
   "execution_count": 9,
   "metadata": {},
   "outputs": [],
   "source": [
    "paragraph=\"Atoms of radioactive elements can split. According to Albert Einstein, mass and energy are interchangeable under certain circumstances. When atoms split, the process is called nuclear fission. In this case, a small amount of mass is converted into energy. Thus the energy released cannot do much damage. However, several subatomic particles called neutrons are also emitted during this process. Each neutron will hit a radioactive element releasing more neutrons in the process. This causes a chain reaction and creates a large amount of energy. This energy is converted into heat which expands uncontrollably causing an explosion. Hence, atoms do not literally explode. They generate energy that can cause explosions.\""
   ]
  },
  {
   "cell_type": "code",
   "execution_count": 11,
   "metadata": {},
   "outputs": [],
   "source": [
    "#tokenization-converts sentence into words #sent_tokenize converts paragraph into sentence\n",
    "sentences=nltk.sent_tokenize(paragraph)"
   ]
  },
  {
   "cell_type": "code",
   "execution_count": 12,
   "metadata": {},
   "outputs": [
    {
     "data": {
      "text/plain": [
       "['Atoms of radioactive elements can split.',\n",
       " 'According to Albert Einstein, mass and energy are interchangeable under certain circumstances.',\n",
       " 'When atoms split, the process is called nuclear fission.',\n",
       " 'In this case, a small amount of mass is converted into energy.',\n",
       " 'Thus the energy released cannot do much damage.',\n",
       " 'However, several subatomic particles called neutrons are also emitted during this process.',\n",
       " 'Each neutron will hit a radioactive element releasing more neutrons in the process.',\n",
       " 'This causes a chain reaction and creates a large amount of energy.',\n",
       " 'This energy is converted into heat which expands uncontrollably causing an explosion.',\n",
       " 'Hence, atoms do not literally explode.',\n",
       " 'They generate energy that can cause explosions.']"
      ]
     },
     "execution_count": 12,
     "metadata": {},
     "output_type": "execute_result"
    }
   ],
   "source": [
    "sentences"
   ]
  },
  {
   "cell_type": "code",
   "execution_count": 13,
   "metadata": {},
   "outputs": [
    {
     "data": {
      "text/plain": [
       "'go'"
      ]
     },
     "execution_count": 13,
     "metadata": {},
     "output_type": "execute_result"
    }
   ],
   "source": [
    "Stemmer=PorterStemmer()\n",
    "Stemmer.stem('going')"
   ]
  },
  {
   "cell_type": "code",
   "execution_count": 15,
   "metadata": {},
   "outputs": [],
   "source": [
    "from nltk.stem import WordNetLemmatizer\n",
    "lemmatizer=WordNetLemmatizer()"
   ]
  },
  {
   "cell_type": "code",
   "execution_count": 19,
   "metadata": {},
   "outputs": [
    {
     "name": "stderr",
     "output_type": "stream",
     "text": [
      "[nltk_data] Downloading package wordnet to\n",
      "[nltk_data]     C:\\Users\\deepa\\AppData\\Roaming\\nltk_data...\n"
     ]
    },
    {
     "data": {
      "text/plain": [
       "True"
      ]
     },
     "execution_count": 19,
     "metadata": {},
     "output_type": "execute_result"
    }
   ],
   "source": [
    "import nltk\n",
    "nltk.download('wordnet')"
   ]
  },
  {
   "cell_type": "code",
   "execution_count": 20,
   "metadata": {},
   "outputs": [
    {
     "data": {
      "text/plain": [
       "'drinking'"
      ]
     },
     "execution_count": 20,
     "metadata": {},
     "output_type": "execute_result"
    }
   ],
   "source": [
    "lemmatizer.lemmatize('drinking')"
   ]
  },
  {
   "cell_type": "code",
   "execution_count": 21,
   "metadata": {},
   "outputs": [
    {
     "data": {
      "text/plain": [
       "11"
      ]
     },
     "execution_count": 21,
     "metadata": {},
     "output_type": "execute_result"
    }
   ],
   "source": [
    "len(sentences)"
   ]
  },
  {
   "cell_type": "code",
   "execution_count": 22,
   "metadata": {},
   "outputs": [],
   "source": [
    "#cleaning special characters\n",
    "import re\n",
    "corpus=[]\n",
    "for i in range(len(sentences)):\n",
    "    review=re.sub('[^a-zA-Z]',' ',sentences[i])#extracing all special characters\n",
    "    review=review.lower()\n",
    "    corpus.append(review)"
   ]
  },
  {
   "cell_type": "code",
   "execution_count": 23,
   "metadata": {},
   "outputs": [
    {
     "data": {
      "text/plain": [
       "['atoms of radioactive elements can split ',\n",
       " 'according to albert einstein  mass and energy are interchangeable under certain circumstances ',\n",
       " 'when atoms split  the process is called nuclear fission ',\n",
       " 'in this case  a small amount of mass is converted into energy ',\n",
       " 'thus the energy released cannot do much damage ',\n",
       " 'however  several subatomic particles called neutrons are also emitted during this process ',\n",
       " 'each neutron will hit a radioactive element releasing more neutrons in the process ',\n",
       " 'this causes a chain reaction and creates a large amount of energy ',\n",
       " 'this energy is converted into heat which expands uncontrollably causing an explosion ',\n",
       " 'hence  atoms do not literally explode ',\n",
       " 'they generate energy that can cause explosions ']"
      ]
     },
     "execution_count": 23,
     "metadata": {},
     "output_type": "execute_result"
    }
   ],
   "source": [
    "corpus"
   ]
  },
  {
   "cell_type": "code",
   "execution_count": 25,
   "metadata": {},
   "outputs": [
    {
     "name": "stdout",
     "output_type": "stream",
     "text": [
      "atom\n",
      "radioact\n",
      "element\n",
      "split\n",
      "accord\n",
      "albert\n",
      "einstein\n",
      "mass\n",
      "energi\n",
      "interchang\n",
      "certain\n",
      "circumst\n",
      "atom\n",
      "split\n",
      "process\n",
      "call\n",
      "nuclear\n",
      "fission\n",
      "case\n",
      "small\n",
      "amount\n",
      "mass\n",
      "convert\n",
      "energi\n",
      "thu\n",
      "energi\n",
      "releas\n",
      "much\n",
      "damag\n",
      "howev\n",
      "sever\n",
      "subatom\n",
      "particl\n",
      "call\n",
      "neutron\n",
      "also\n",
      "emit\n",
      "process\n",
      "neutron\n",
      "hit\n",
      "radioact\n",
      "element\n",
      "releas\n",
      "neutron\n",
      "process\n",
      "caus\n",
      "chain\n",
      "reaction\n",
      "creat\n",
      "larg\n",
      "amount\n",
      "energi\n",
      "energi\n",
      "convert\n",
      "heat\n",
      "expand\n",
      "uncontrol\n",
      "caus\n",
      "explos\n",
      "henc\n",
      "atom\n",
      "liter\n",
      "explod\n",
      "gener\n",
      "energi\n",
      "caus\n",
      "explos\n"
     ]
    }
   ],
   "source": [
    "#stemmer\n",
    "for i in corpus:\n",
    "    words=nltk.word_tokenize(i)\n",
    "    for word in words:\n",
    "        if word not in set(stopwords.words('english')):\n",
    "            print(Stemmer.stem(word))\n",
    "        "
   ]
  },
  {
   "cell_type": "code",
   "execution_count": 26,
   "metadata": {},
   "outputs": [
    {
     "data": {
      "text/plain": [
       "['i',\n",
       " 'me',\n",
       " 'my',\n",
       " 'myself',\n",
       " 'we',\n",
       " 'our',\n",
       " 'ours',\n",
       " 'ourselves',\n",
       " 'you',\n",
       " \"you're\",\n",
       " \"you've\",\n",
       " \"you'll\",\n",
       " \"you'd\",\n",
       " 'your',\n",
       " 'yours',\n",
       " 'yourself',\n",
       " 'yourselves',\n",
       " 'he',\n",
       " 'him',\n",
       " 'his',\n",
       " 'himself',\n",
       " 'she',\n",
       " \"she's\",\n",
       " 'her',\n",
       " 'hers',\n",
       " 'herself',\n",
       " 'it',\n",
       " \"it's\",\n",
       " 'its',\n",
       " 'itself',\n",
       " 'they',\n",
       " 'them',\n",
       " 'their',\n",
       " 'theirs',\n",
       " 'themselves',\n",
       " 'what',\n",
       " 'which',\n",
       " 'who',\n",
       " 'whom',\n",
       " 'this',\n",
       " 'that',\n",
       " \"that'll\",\n",
       " 'these',\n",
       " 'those',\n",
       " 'am',\n",
       " 'is',\n",
       " 'are',\n",
       " 'was',\n",
       " 'were',\n",
       " 'be',\n",
       " 'been',\n",
       " 'being',\n",
       " 'have',\n",
       " 'has',\n",
       " 'had',\n",
       " 'having',\n",
       " 'do',\n",
       " 'does',\n",
       " 'did',\n",
       " 'doing',\n",
       " 'a',\n",
       " 'an',\n",
       " 'the',\n",
       " 'and',\n",
       " 'but',\n",
       " 'if',\n",
       " 'or',\n",
       " 'because',\n",
       " 'as',\n",
       " 'until',\n",
       " 'while',\n",
       " 'of',\n",
       " 'at',\n",
       " 'by',\n",
       " 'for',\n",
       " 'with',\n",
       " 'about',\n",
       " 'against',\n",
       " 'between',\n",
       " 'into',\n",
       " 'through',\n",
       " 'during',\n",
       " 'before',\n",
       " 'after',\n",
       " 'above',\n",
       " 'below',\n",
       " 'to',\n",
       " 'from',\n",
       " 'up',\n",
       " 'down',\n",
       " 'in',\n",
       " 'out',\n",
       " 'on',\n",
       " 'off',\n",
       " 'over',\n",
       " 'under',\n",
       " 'again',\n",
       " 'further',\n",
       " 'then',\n",
       " 'once',\n",
       " 'here',\n",
       " 'there',\n",
       " 'when',\n",
       " 'where',\n",
       " 'why',\n",
       " 'how',\n",
       " 'all',\n",
       " 'any',\n",
       " 'both',\n",
       " 'each',\n",
       " 'few',\n",
       " 'more',\n",
       " 'most',\n",
       " 'other',\n",
       " 'some',\n",
       " 'such',\n",
       " 'no',\n",
       " 'nor',\n",
       " 'not',\n",
       " 'only',\n",
       " 'own',\n",
       " 'same',\n",
       " 'so',\n",
       " 'than',\n",
       " 'too',\n",
       " 'very',\n",
       " 's',\n",
       " 't',\n",
       " 'can',\n",
       " 'will',\n",
       " 'just',\n",
       " 'don',\n",
       " \"don't\",\n",
       " 'should',\n",
       " \"should've\",\n",
       " 'now',\n",
       " 'd',\n",
       " 'll',\n",
       " 'm',\n",
       " 'o',\n",
       " 're',\n",
       " 've',\n",
       " 'y',\n",
       " 'ain',\n",
       " 'aren',\n",
       " \"aren't\",\n",
       " 'couldn',\n",
       " \"couldn't\",\n",
       " 'didn',\n",
       " \"didn't\",\n",
       " 'doesn',\n",
       " \"doesn't\",\n",
       " 'hadn',\n",
       " \"hadn't\",\n",
       " 'hasn',\n",
       " \"hasn't\",\n",
       " 'haven',\n",
       " \"haven't\",\n",
       " 'isn',\n",
       " \"isn't\",\n",
       " 'ma',\n",
       " 'mightn',\n",
       " \"mightn't\",\n",
       " 'mustn',\n",
       " \"mustn't\",\n",
       " 'needn',\n",
       " \"needn't\",\n",
       " 'shan',\n",
       " \"shan't\",\n",
       " 'shouldn',\n",
       " \"shouldn't\",\n",
       " 'wasn',\n",
       " \"wasn't\",\n",
       " 'weren',\n",
       " \"weren't\",\n",
       " 'won',\n",
       " \"won't\",\n",
       " 'wouldn',\n",
       " \"wouldn't\"]"
      ]
     },
     "execution_count": 26,
     "metadata": {},
     "output_type": "execute_result"
    }
   ],
   "source": [
    "stopwords.words('english')"
   ]
  },
  {
   "cell_type": "code",
   "execution_count": 28,
   "metadata": {},
   "outputs": [
    {
     "name": "stdout",
     "output_type": "stream",
     "text": [
      "atom\n",
      "radioactive\n",
      "element\n",
      "split\n",
      "according\n",
      "albert\n",
      "einstein\n",
      "mass\n",
      "energy\n",
      "interchangeable\n",
      "certain\n",
      "circumstance\n",
      "atom\n",
      "split\n",
      "process\n",
      "called\n",
      "nuclear\n",
      "fission\n",
      "case\n",
      "small\n",
      "amount\n",
      "mass\n",
      "converted\n",
      "energy\n",
      "thus\n",
      "energy\n",
      "released\n",
      "much\n",
      "damage\n",
      "however\n",
      "several\n",
      "subatomic\n",
      "particle\n",
      "called\n",
      "neutron\n",
      "also\n",
      "emitted\n",
      "process\n",
      "neutron\n",
      "hit\n",
      "radioactive\n",
      "element\n",
      "releasing\n",
      "neutron\n",
      "process\n",
      "cause\n",
      "chain\n",
      "reaction\n",
      "creates\n",
      "large\n",
      "amount\n",
      "energy\n",
      "energy\n",
      "converted\n",
      "heat\n",
      "expands\n",
      "uncontrollably\n",
      "causing\n",
      "explosion\n",
      "hence\n",
      "atom\n",
      "literally\n",
      "explode\n",
      "generate\n",
      "energy\n",
      "cause\n",
      "explosion\n"
     ]
    }
   ],
   "source": [
    "#Lemmatizer\n",
    "for i in corpus:\n",
    "    words=nltk.word_tokenize(i)\n",
    "    for word in words:\n",
    "        if word not in set(stopwords.words('english')):\n",
    "            print(lemmatizer.lemmatize(word))\n",
    "        "
   ]
  },
  {
   "cell_type": "code",
   "execution_count": 29,
   "metadata": {},
   "outputs": [],
   "source": [
    "#Bag of words\n",
    "from sklearn.feature_extraction.text import CountVectorizer\n",
    "cv=CountVectorizer()#put binary=True if any values you got as 2,3 other than 0"
   ]
  },
  {
   "cell_type": "code",
   "execution_count": 30,
   "metadata": {},
   "outputs": [],
   "source": [
    "X=cv.fit_transform(corpus)"
   ]
  },
  {
   "cell_type": "code",
   "execution_count": 31,
   "metadata": {},
   "outputs": [
    {
     "data": {
      "text/plain": [
       "{'atoms': 7,\n",
       " 'of': 52,\n",
       " 'radioactive': 55,\n",
       " 'elements': 26,\n",
       " 'can': 9,\n",
       " 'split': 61,\n",
       " 'according': 0,\n",
       " 'to': 68,\n",
       " 'albert': 1,\n",
       " 'einstein': 24,\n",
       " 'mass': 45,\n",
       " 'and': 5,\n",
       " 'energy': 28,\n",
       " 'are': 6,\n",
       " 'interchangeable': 40,\n",
       " 'under': 70,\n",
       " 'certain': 15,\n",
       " 'circumstances': 17,\n",
       " 'when': 71,\n",
       " 'the': 64,\n",
       " 'process': 54,\n",
       " 'is': 42,\n",
       " 'called': 8,\n",
       " 'nuclear': 51,\n",
       " 'fission': 33,\n",
       " 'in': 39,\n",
       " 'this': 66,\n",
       " 'case': 11,\n",
       " 'small': 60,\n",
       " 'amount': 3,\n",
       " 'converted': 18,\n",
       " 'into': 41,\n",
       " 'thus': 67,\n",
       " 'released': 57,\n",
       " 'cannot': 10,\n",
       " 'do': 21,\n",
       " 'much': 47,\n",
       " 'damage': 20,\n",
       " 'however': 38,\n",
       " 'several': 59,\n",
       " 'subatomic': 62,\n",
       " 'particles': 53,\n",
       " 'neutrons': 49,\n",
       " 'also': 2,\n",
       " 'emitted': 27,\n",
       " 'during': 22,\n",
       " 'each': 23,\n",
       " 'neutron': 48,\n",
       " 'will': 73,\n",
       " 'hit': 37,\n",
       " 'element': 25,\n",
       " 'releasing': 58,\n",
       " 'more': 46,\n",
       " 'causes': 13,\n",
       " 'chain': 16,\n",
       " 'reaction': 56,\n",
       " 'creates': 19,\n",
       " 'large': 43,\n",
       " 'heat': 35,\n",
       " 'which': 72,\n",
       " 'expands': 29,\n",
       " 'uncontrollably': 69,\n",
       " 'causing': 14,\n",
       " 'an': 4,\n",
       " 'explosion': 31,\n",
       " 'hence': 36,\n",
       " 'not': 50,\n",
       " 'literally': 44,\n",
       " 'explode': 30,\n",
       " 'they': 65,\n",
       " 'generate': 34,\n",
       " 'that': 63,\n",
       " 'cause': 12,\n",
       " 'explosions': 32}"
      ]
     },
     "execution_count": 31,
     "metadata": {},
     "output_type": "execute_result"
    }
   ],
   "source": [
    "#index-feature numbers like f1,f2,f3\n",
    "cv.vocabulary_"
   ]
  },
  {
   "cell_type": "code",
   "execution_count": 32,
   "metadata": {},
   "outputs": [
    {
     "data": {
      "text/plain": [
       "'atoms of radioactive elements can split '"
      ]
     },
     "execution_count": 32,
     "metadata": {},
     "output_type": "execute_result"
    }
   ],
   "source": [
    "corpus[0]"
   ]
  },
  {
   "cell_type": "code",
   "execution_count": 34,
   "metadata": {},
   "outputs": [
    {
     "data": {
      "text/plain": [
       "array([[0, 0, 0, 0, 0, 0, 0, 1, 0, 1, 0, 0, 0, 0, 0, 0, 0, 0, 0, 0, 0, 0,\n",
       "        0, 0, 0, 0, 1, 0, 0, 0, 0, 0, 0, 0, 0, 0, 0, 0, 0, 0, 0, 0, 0, 0,\n",
       "        0, 0, 0, 0, 0, 0, 0, 0, 1, 0, 0, 1, 0, 0, 0, 0, 0, 1, 0, 0, 0, 0,\n",
       "        0, 0, 0, 0, 0, 0, 0, 0]], dtype=int64)"
      ]
     },
     "execution_count": 34,
     "metadata": {},
     "output_type": "execute_result"
    }
   ],
   "source": [
    "X[0].toarray()"
   ]
  },
  {
   "cell_type": "markdown",
   "metadata": {},
   "source": [
    "### Text-Preprocessing-2 "
   ]
  },
  {
   "cell_type": "code",
   "execution_count": 35,
   "metadata": {},
   "outputs": [],
   "source": [
    "#Bag of words\n",
    "from sklearn.feature_extraction.text import CountVectorizer\n",
    "cv=CountVectorizer(binary=True,ngram_range=(3,3))#for only trigrams"
   ]
  },
  {
   "cell_type": "code",
   "execution_count": 36,
   "metadata": {},
   "outputs": [
    {
     "data": {
      "text/plain": [
       "{'atoms of radioactive': 10,\n",
       " 'of radioactive elements': 56,\n",
       " 'radioactive elements can': 60,\n",
       " 'elements can split': 29,\n",
       " 'according to albert': 0,\n",
       " 'to albert einstein': 76,\n",
       " 'albert einstein mass': 1,\n",
       " 'einstein mass and': 27,\n",
       " 'mass and energy': 48,\n",
       " 'and energy are': 6,\n",
       " 'energy are interchangeable': 31,\n",
       " 'are interchangeable under': 8,\n",
       " 'interchangeable under certain': 43,\n",
       " 'under certain circumstances': 78,\n",
       " 'when atoms split': 79,\n",
       " 'atoms split the': 11,\n",
       " 'split the process': 66,\n",
       " 'the process is': 70,\n",
       " 'process is called': 58,\n",
       " 'is called nuclear': 45,\n",
       " 'called nuclear fission': 13,\n",
       " 'in this case': 42,\n",
       " 'this case small': 72,\n",
       " 'case small amount': 16,\n",
       " 'small amount of': 65,\n",
       " 'amount of mass': 4,\n",
       " 'of mass is': 55,\n",
       " 'mass is converted': 49,\n",
       " 'is converted into': 46,\n",
       " 'converted into energy': 20,\n",
       " 'thus the energy': 75,\n",
       " 'the energy released': 69,\n",
       " 'energy released cannot': 33,\n",
       " 'released cannot do': 62,\n",
       " 'cannot do much': 15,\n",
       " 'do much damage': 23,\n",
       " 'however several subatomic': 40,\n",
       " 'several subatomic particles': 64,\n",
       " 'subatomic particles called': 67,\n",
       " 'particles called neutrons': 57,\n",
       " 'called neutrons are': 12,\n",
       " 'neutrons are also': 52,\n",
       " 'are also emitted': 7,\n",
       " 'also emitted during': 2,\n",
       " 'emitted during this': 30,\n",
       " 'during this process': 25,\n",
       " 'each neutron will': 26,\n",
       " 'neutron will hit': 51,\n",
       " 'will hit radioactive': 81,\n",
       " 'hit radioactive element': 39,\n",
       " 'radioactive element releasing': 59,\n",
       " 'element releasing more': 28,\n",
       " 'releasing more neutrons': 63,\n",
       " 'more neutrons in': 50,\n",
       " 'neutrons in the': 53,\n",
       " 'in the process': 41,\n",
       " 'this causes chain': 73,\n",
       " 'causes chain reaction': 17,\n",
       " 'chain reaction and': 19,\n",
       " 'reaction and creates': 61,\n",
       " 'and creates large': 5,\n",
       " 'creates large amount': 22,\n",
       " 'large amount of': 47,\n",
       " 'amount of energy': 3,\n",
       " 'this energy is': 74,\n",
       " 'energy is converted': 32,\n",
       " 'converted into heat': 21,\n",
       " 'into heat which': 44,\n",
       " 'heat which expands': 37,\n",
       " 'which expands uncontrollably': 80,\n",
       " 'expands uncontrollably causing': 35,\n",
       " 'uncontrollably causing an': 77,\n",
       " 'causing an explosion': 18,\n",
       " 'hence atoms do': 38,\n",
       " 'atoms do not': 9,\n",
       " 'do not literally': 24,\n",
       " 'not literally explode': 54,\n",
       " 'they generate energy': 71,\n",
       " 'generate energy that': 36,\n",
       " 'energy that can': 34,\n",
       " 'that can cause': 68,\n",
       " 'can cause explosions': 14}"
      ]
     },
     "execution_count": 36,
     "metadata": {},
     "output_type": "execute_result"
    }
   ],
   "source": [
    "X=cv.fit_transform(corpus)\n",
    "cv.vocabulary_"
   ]
  },
  {
   "cell_type": "code",
   "execution_count": 37,
   "metadata": {},
   "outputs": [],
   "source": [
    "from sklearn.feature_extraction.text import CountVectorizer\n",
    "cv=CountVectorizer(binary=True,ngram_range=(2,3)) #for both bigrams and trigrams"
   ]
  },
  {
   "cell_type": "code",
   "execution_count": 38,
   "metadata": {},
   "outputs": [
    {
     "data": {
      "text/plain": [
       "{'atoms of': 20,\n",
       " 'of radioactive': 119,\n",
       " 'radioactive elements': 127,\n",
       " 'elements can': 60,\n",
       " 'can split': 30,\n",
       " 'atoms of radioactive': 21,\n",
       " 'of radioactive elements': 120,\n",
       " 'radioactive elements can': 128,\n",
       " 'elements can split': 61,\n",
       " 'according to': 0,\n",
       " 'to albert': 160,\n",
       " 'albert einstein': 2,\n",
       " 'einstein mass': 56,\n",
       " 'mass and': 100,\n",
       " 'and energy': 12,\n",
       " 'energy are': 64,\n",
       " 'are interchangeable': 16,\n",
       " 'interchangeable under': 88,\n",
       " 'under certain': 164,\n",
       " 'certain circumstances': 40,\n",
       " 'according to albert': 1,\n",
       " 'to albert einstein': 161,\n",
       " 'albert einstein mass': 3,\n",
       " 'einstein mass and': 57,\n",
       " 'mass and energy': 101,\n",
       " 'and energy are': 13,\n",
       " 'energy are interchangeable': 65,\n",
       " 'are interchangeable under': 17,\n",
       " 'interchangeable under certain': 89,\n",
       " 'under certain circumstances': 165,\n",
       " 'when atoms': 166,\n",
       " 'atoms split': 22,\n",
       " 'split the': 139,\n",
       " 'the process': 147,\n",
       " 'process is': 123,\n",
       " 'is called': 93,\n",
       " 'called nuclear': 26,\n",
       " 'nuclear fission': 115,\n",
       " 'when atoms split': 167,\n",
       " 'atoms split the': 23,\n",
       " 'split the process': 140,\n",
       " 'the process is': 148,\n",
       " 'process is called': 124,\n",
       " 'is called nuclear': 94,\n",
       " 'called nuclear fission': 27,\n",
       " 'in this': 86,\n",
       " 'this case': 151,\n",
       " 'case small': 33,\n",
       " 'small amount': 137,\n",
       " 'amount of': 6,\n",
       " 'of mass': 117,\n",
       " 'mass is': 102,\n",
       " 'is converted': 95,\n",
       " 'converted into': 43,\n",
       " 'into energy': 90,\n",
       " 'in this case': 87,\n",
       " 'this case small': 152,\n",
       " 'case small amount': 34,\n",
       " 'small amount of': 138,\n",
       " 'amount of mass': 8,\n",
       " 'of mass is': 118,\n",
       " 'mass is converted': 103,\n",
       " 'is converted into': 96,\n",
       " 'converted into energy': 44,\n",
       " 'thus the': 158,\n",
       " 'the energy': 145,\n",
       " 'energy released': 68,\n",
       " 'released cannot': 131,\n",
       " 'cannot do': 31,\n",
       " 'do much': 48,\n",
       " 'much damage': 106,\n",
       " 'thus the energy': 159,\n",
       " 'the energy released': 146,\n",
       " 'energy released cannot': 69,\n",
       " 'released cannot do': 132,\n",
       " 'cannot do much': 32,\n",
       " 'do much damage': 49,\n",
       " 'however several': 82,\n",
       " 'several subatomic': 135,\n",
       " 'subatomic particles': 141,\n",
       " 'particles called': 121,\n",
       " 'called neutrons': 24,\n",
       " 'neutrons are': 109,\n",
       " 'are also': 14,\n",
       " 'also emitted': 4,\n",
       " 'emitted during': 62,\n",
       " 'during this': 52,\n",
       " 'this process': 157,\n",
       " 'however several subatomic': 83,\n",
       " 'several subatomic particles': 136,\n",
       " 'subatomic particles called': 142,\n",
       " 'particles called neutrons': 122,\n",
       " 'called neutrons are': 25,\n",
       " 'neutrons are also': 110,\n",
       " 'are also emitted': 15,\n",
       " 'also emitted during': 5,\n",
       " 'emitted during this': 63,\n",
       " 'during this process': 53,\n",
       " 'each neutron': 54,\n",
       " 'neutron will': 107,\n",
       " 'will hit': 170,\n",
       " 'hit radioactive': 80,\n",
       " 'radioactive element': 125,\n",
       " 'element releasing': 58,\n",
       " 'releasing more': 133,\n",
       " 'more neutrons': 104,\n",
       " 'neutrons in': 111,\n",
       " 'in the': 84,\n",
       " 'each neutron will': 55,\n",
       " 'neutron will hit': 108,\n",
       " 'will hit radioactive': 171,\n",
       " 'hit radioactive element': 81,\n",
       " 'radioactive element releasing': 126,\n",
       " 'element releasing more': 59,\n",
       " 'releasing more neutrons': 134,\n",
       " 'more neutrons in': 105,\n",
       " 'neutrons in the': 112,\n",
       " 'in the process': 85,\n",
       " 'this causes': 153,\n",
       " 'causes chain': 36,\n",
       " 'chain reaction': 41,\n",
       " 'reaction and': 129,\n",
       " 'and creates': 10,\n",
       " 'creates large': 46,\n",
       " 'large amount': 97,\n",
       " 'of energy': 116,\n",
       " 'this causes chain': 154,\n",
       " 'causes chain reaction': 37,\n",
       " 'chain reaction and': 42,\n",
       " 'reaction and creates': 130,\n",
       " 'and creates large': 11,\n",
       " 'creates large amount': 47,\n",
       " 'large amount of': 98,\n",
       " 'amount of energy': 7,\n",
       " 'this energy': 155,\n",
       " 'energy is': 66,\n",
       " 'into heat': 91,\n",
       " 'heat which': 76,\n",
       " 'which expands': 168,\n",
       " 'expands uncontrollably': 72,\n",
       " 'uncontrollably causing': 162,\n",
       " 'causing an': 38,\n",
       " 'an explosion': 9,\n",
       " 'this energy is': 156,\n",
       " 'energy is converted': 67,\n",
       " 'converted into heat': 45,\n",
       " 'into heat which': 92,\n",
       " 'heat which expands': 77,\n",
       " 'which expands uncontrollably': 169,\n",
       " 'expands uncontrollably causing': 73,\n",
       " 'uncontrollably causing an': 163,\n",
       " 'causing an explosion': 39,\n",
       " 'hence atoms': 78,\n",
       " 'atoms do': 18,\n",
       " 'do not': 50,\n",
       " 'not literally': 113,\n",
       " 'literally explode': 99,\n",
       " 'hence atoms do': 79,\n",
       " 'atoms do not': 19,\n",
       " 'do not literally': 51,\n",
       " 'not literally explode': 114,\n",
       " 'they generate': 149,\n",
       " 'generate energy': 74,\n",
       " 'energy that': 70,\n",
       " 'that can': 143,\n",
       " 'can cause': 28,\n",
       " 'cause explosions': 35,\n",
       " 'they generate energy': 150,\n",
       " 'generate energy that': 75,\n",
       " 'energy that can': 71,\n",
       " 'that can cause': 144,\n",
       " 'can cause explosions': 29}"
      ]
     },
     "execution_count": 38,
     "metadata": {},
     "output_type": "execute_result"
    }
   ],
   "source": [
    "X=cv.fit_transform(corpus)\n",
    "cv.vocabulary_"
   ]
  },
  {
   "cell_type": "code",
   "execution_count": 42,
   "metadata": {},
   "outputs": [],
   "source": [
    "from sklearn.feature_extraction.text import TfidfVectorizer\n",
    "cv= TfidfVectorizer()\n",
    "x=cv.fit_transform(corpus)"
   ]
  },
  {
   "cell_type": "code",
   "execution_count": 43,
   "metadata": {},
   "outputs": [
    {
     "data": {
      "text/plain": [
       "'atoms of radioactive elements can split '"
      ]
     },
     "execution_count": 43,
     "metadata": {},
     "output_type": "execute_result"
    }
   ],
   "source": [
    "corpus[0]"
   ]
  },
  {
   "cell_type": "code",
   "execution_count": 44,
   "metadata": {},
   "outputs": [
    {
     "data": {
      "text/plain": [
       "array([[0.        , 0.        , 0.        , 0.        , 0.        ,\n",
       "        0.        , 0.        , 0.36158541, 0.        , 0.41115228,\n",
       "        0.        , 0.        , 0.        , 0.        , 0.        ,\n",
       "        0.        , 0.        , 0.        , 0.        , 0.        ,\n",
       "        0.        , 0.        , 0.        , 0.        , 0.        ,\n",
       "        0.        , 0.48101286, 0.        , 0.        , 0.        ,\n",
       "        0.        , 0.        , 0.        , 0.        , 0.        ,\n",
       "        0.        , 0.        , 0.        , 0.        , 0.        ,\n",
       "        0.        , 0.        , 0.        , 0.        , 0.        ,\n",
       "        0.        , 0.        , 0.        , 0.        , 0.        ,\n",
       "        0.        , 0.        , 0.36158541, 0.        , 0.        ,\n",
       "        0.41115228, 0.        , 0.        , 0.        , 0.        ,\n",
       "        0.        , 0.41115228, 0.        , 0.        , 0.        ,\n",
       "        0.        , 0.        , 0.        , 0.        , 0.        ,\n",
       "        0.        , 0.        , 0.        , 0.        ]])"
      ]
     },
     "execution_count": 44,
     "metadata": {},
     "output_type": "execute_result"
    }
   ],
   "source": [
    "x[0].toarray()"
   ]
  },
  {
   "cell_type": "code",
   "execution_count": 46,
   "metadata": {},
   "outputs": [],
   "source": [
    "from sklearn.feature_extraction.text import TfidfVectorizer\n",
    "cv= TfidfVectorizer(ngram_range=(1,1),max_features=10)\n",
    "x=cv.fit_transform(corpus)"
   ]
  },
  {
   "cell_type": "code",
   "execution_count": 47,
   "metadata": {},
   "outputs": [
    {
     "data": {
      "text/plain": [
       "'atoms of radioactive elements can split '"
      ]
     },
     "execution_count": 47,
     "metadata": {},
     "output_type": "execute_result"
    }
   ],
   "source": [
    "corpus[0]"
   ]
  },
  {
   "cell_type": "code",
   "execution_count": 49,
   "metadata": {},
   "outputs": [
    {
     "data": {
      "text/plain": [
       "array([[0.55107037, 0.        , 0.        , 0.        , 0.        ,\n",
       "        0.55107037, 0.        , 0.62661223, 0.        , 0.        ]])"
      ]
     },
     "execution_count": 49,
     "metadata": {},
     "output_type": "execute_result"
    }
   ],
   "source": [
    "x[0].toarray()"
   ]
  }
 ],
 "metadata": {
  "kernelspec": {
   "display_name": "Python 3",
   "language": "python",
   "name": "python3"
  },
  "language_info": {
   "codemirror_mode": {
    "name": "ipython",
    "version": 3
   },
   "file_extension": ".py",
   "mimetype": "text/x-python",
   "name": "python",
   "nbconvert_exporter": "python",
   "pygments_lexer": "ipython3",
   "version": "3.7.4"
  }
 },
 "nbformat": 4,
 "nbformat_minor": 2
}
